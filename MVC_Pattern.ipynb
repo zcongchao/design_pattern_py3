{
 "cells": [
  {
   "cell_type": "markdown",
   "metadata": {},
   "source": [
    "### 模型—视图—控制器模式 "
   ]
  },
  {
   "cell_type": "markdown",
   "metadata": {},
   "source": [
    "关注点分离（Separation of Concerns，SoC）原则是软件工程相关的设计原则之一。SoC原则\n",
    "背后的思想是将一个应用切分成不同的部分，每个部分解决一个单独的关注点。分层设计中的层\n",
    "次（数据访问层、业务逻辑层和表示层等）即是关注点的例子。使用SoC原则能简化软件应用的\n",
    "开发和维护（请参考网页［t.cn/RqrjewK］）。     \n",
    "模型—视图—控制器（Model-View-Controller，MVC）模式是应用到面向对象编程的Soc原则。\n",
    "模式的名称来自用来切分软件应用的三个主要部分，即模型部分、视图部分和控制器部分。MVC\n",
    "被认为是一种架构模式而不是一种设计模式。架构模式与设计模式之间的区别在于前者比后者的\n",
    "范畴更广。然而，MVC太重要了，不能仅因为这个原因就跳过不说。即使我们从不需要从头实\n",
    "现它，也需要熟悉它，因为所有常见框架都使用了MVC或者是其略微不同的版本（之后会详述）。  \n",
    "模型是核心的部分，代表着应用的信息本源，包含和管理（业务）逻辑、数据、状态以及应\n",
    "用的规则。视图是模型的可视化表现。视图的例子有，计算机图形用户界面、计算机终端的文本\n",
    "输出、智能手机的应用图形界面、PDF文档、饼图和柱状图等。视图只是展示数据，并不处理数\n",
    "据。控制器是模型与视图之间的链接/粘附。模型与视图之间的所有通信都通过控制器进行（请\n",
    "参考［GOF95，第14页］、网页［t.cn/RqrjF4G］和网页［t.cn/RPrOUPr］）。    \n",
    "对于将初始屏幕渲染给用户之后使用MVC的应用，其典型使用方式如下所示。   \n",
    " 用户通过单击（键入、触摸等）某个按钮触发一个视图    \n",
    " 视图把用户操作告知控制器     \n",
    " 控制器处理用户输入，并与模型交互    \n",
    " 模型执行所有必要的校验和状态改变，并通知控制器应该做什么   \n",
    " 控制器按照模型给出的指令，指导视图适当地更新和显示输出    \n",
    "你可能想知道为什么控制器部分是必要的？我们能跳过它吗？能，但那样我们将失去MVC\n",
    "提供的一大优势：无需修改模型就能使用多个视图的能力（甚至可以根据需要同时使用多个视\n",
    "图） 。为了实现模型与其表现之间的解耦，每个视图通常都需要属于它的控制器。如果模型直接\n",
    "与特定视图通信，我们将无法对同一个模型使用多个视图（或者至少无法以简洁模块化的方式实\n",
    "现）"
   ]
  },
  {
   "cell_type": "markdown",
   "metadata": {},
   "source": [
    "### 实现 \n",
    "我可以使用任意常见框架来演示如何使用MVC，但觉得那样的话，读者对MVC的理解会不\n",
    "完整。因此我决定使用一个非常简单的示例来展示如何从头实现MVC，这个示例是名人名言打\n",
    "印机。想法极其简单：用户输入一个数字，然后就能看到与这个数字相关的名人名言。名人名言\n",
    "存储在一个quotes元组中。这种数据通常是存储在数据库、文件或其他地方，只有模型能够直\n",
    "接访问它"
   ]
  },
  {
   "cell_type": "code",
   "execution_count": 1,
   "metadata": {
    "collapsed": true
   },
   "outputs": [],
   "source": [
    "quotes = ('A man is not complete until he is married. Then he is finished.',\n",
    "          'As I said before, I never repeat myself.',\n",
    "          'Behind a successful man is an exhausted woman.',\n",
    "          'Black holes really suck...', 'Facts are stubborn things.')\n",
    "\n",
    "\n",
    "class QuoteModel:\n",
    "\n",
    "    def get_quote(self, n):\n",
    "        try:\n",
    "            value = quotes[n]\n",
    "        except IndexError as err:\n",
    "            value = 'Not found!'\n",
    "        return value\n",
    "\n",
    "\n",
    "class QuoteTerminalView:\n",
    "\n",
    "    def show(self, quote):\n",
    "        print('And the quote is: \"{}\"'.format(quote))\n",
    "\n",
    "    def error(self, msg):\n",
    "        print('Error: {}'.format(msg))\n",
    "\n",
    "    def select_quote(self):\n",
    "        return input('Which quote number would you like to see?')\n",
    "\n",
    "\n",
    "class QuoteTerminalController:\n",
    "\n",
    "    def __init__(self):\n",
    "        self.model = QuoteModel()\n",
    "        self.view = QuoteTerminalView()\n",
    "\n",
    "    def run(self):\n",
    "        valid_input = False\n",
    "        while not valid_input:\n",
    "            n = self.view.select_quote()\n",
    "            try:\n",
    "                n = int(n)\n",
    "            except ValueError as err:\n",
    "                self.view.error(\"Incorrect index '{}'\".format(n))\n",
    "            else:\n",
    "                valid_input = True\n",
    "        quote = self.model.get_quote(n)\n",
    "        self.view.show(quote)\n",
    "\n",
    "\n",
    "def main():\n",
    "    controller = QuoteTerminalController()\n",
    "    while True:\n",
    "        controller.run()"
   ]
  },
  {
   "cell_type": "code",
   "execution_count": null,
   "metadata": {
    "collapsed": false
   },
   "outputs": [
    {
     "name": "stdout",
     "output_type": "stream",
     "text": [
      "Which quote number would you like to see?1\n",
      "And the quote is: \"As I said before, I never repeat myself.\"\n"
     ]
    }
   ],
   "source": [
    "main()"
   ]
  },
  {
   "cell_type": "code",
   "execution_count": null,
   "metadata": {
    "collapsed": true
   },
   "outputs": [],
   "source": []
  }
 ],
 "metadata": {
  "kernelspec": {
   "display_name": "Python [default]",
   "language": "python",
   "name": "python3"
  },
  "language_info": {
   "codemirror_mode": {
    "name": "ipython",
    "version": 3
   },
   "file_extension": ".py",
   "mimetype": "text/x-python",
   "name": "python",
   "nbconvert_exporter": "python",
   "pygments_lexer": "ipython3",
   "version": "3.5.2"
  }
 },
 "nbformat": 4,
 "nbformat_minor": 1
}
