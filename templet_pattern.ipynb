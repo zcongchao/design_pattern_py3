{
 "cells": [
  {
   "cell_type": "markdown",
   "metadata": {},
   "source": [
    "### 模板模式 \n",
    "编写优秀代码的一个要素是避免冗余。在面向对象编程中，方法和函数是我们用来避免编写\n",
    "冗余代码的重要工具。回想第15章中的sorted()例子。sorted()函数非常通用，可使用任意键\n",
    "来对多种数据结构（列表、元组和命名元组等）进行排序。这是一个良好函数的定义。 \n",
    "sorted()这样的函数属于理想的案例。现实中，我们没法始终写出100%通用的代码。许多\n",
    "算法都有一些（但并非全部）通用步骤。广度优先搜索（Breadth-First Search，BFS）和深度优先\n",
    "搜索（Depth-First Search，DFS）是其中不错的例子，这两个流行的算法应用于图搜索问题。起\n",
    "初，我们提出独立实现两个算法 。函数bfs()和dfs()在start和end之间存在\n",
    "一条路径时返回一个元组(True, path)；如果路径不存在，则返回(False, path)（此时，\n",
    "path为空）。 "
   ]
  },
  {
   "cell_type": "code",
   "execution_count": 1,
   "metadata": {
    "collapsed": true
   },
   "outputs": [],
   "source": [
    "#广度优先搜索\n",
    "def bfs(graph, start, end):\n",
    "    path = []\n",
    "    visited = [start]\n",
    "    while visited:\n",
    "        current = visited.pop(0)\n",
    "        if current not in path:\n",
    "            path.append(current)\n",
    "            if current == end:\n",
    "                print(path)\n",
    "                return (True, path)\n",
    "            # 两个顶点若不相连则跳过\n",
    "            if current not in graph:\n",
    "                continue\n",
    "        #两个算法仅这一行不一样\n",
    "        visited = visited + graph[current]\n",
    "    return (False, path)\n",
    "\n",
    "#深度优先\n",
    "def dfs(graph, start, end):\n",
    "    path = []\n",
    "    visited = [start]\n",
    "    while visited:\n",
    "        current = visited.pop(0)\n",
    "        if current not in path:\n",
    "            path.append(current)\n",
    "            if current == end:\n",
    "                print(path)\n",
    "                return (True, path)\n",
    "            # 两个顶点若不相连则跳过\n",
    "            if current not in graph:\n",
    "                continue\n",
    "        #两个算法仅这一行不一样\n",
    "        visited = graph[current] + visited\n",
    "    return (False, path)\n"
   ]
  },
  {
   "cell_type": "markdown",
   "metadata": {},
   "source": [
    "先使用Wikipedia提供的图（请参考网页［t.cn/RqrBp3p］）来测试算法。为了简化，假设该图\n",
    "是有向的。这意味着只能朝一个方向移动，我们可以检测如何从Frankfurt到Mannheim，而不是另\n",
    "一个方向。 \n",
    "可以使用列表的字典结构来表示这个有向图。每个城市是字典中的一个键，列表的内容是从\n",
    "该城市始发的所有可能目的地。叶子顶点的城市（例如，Erfurt）使用一个空列表即可（无目的\n",
    "地）。 "
   ]
  },
  {
   "cell_type": "code",
   "execution_count": null,
   "metadata": {
    "collapsed": true
   },
   "outputs": [],
   "source": [
    "def main():\n",
    "    graph = {\n",
    "        'Frankfurt': ['Mannheim', 'Wurzburg', 'Kassel'],\n",
    "        'Mannheim': ['Karlsruhe'],\n",
    "        'Karlsruhe': ['Augsburg'],\n",
    "        'Augsburg': ['Munchen'],\n",
    "        'Wurzburg': ['Erfurt', 'Nurnberg'],\n",
    "        'Nurnberg': ['Stuttgart', 'Munchen'],\n",
    "        'Kassel': ['Munchen'],\n",
    "        'Erfurt': [],\n",
    "        'Stuttgart': [],\n",
    "        'Munchen': []\n",
    "    }\n",
    "\n",
    "    bfs_path = bfs(graph, 'Frankfurt', 'Nurnberg')\n",
    "    dfs_path = dfs(graph, 'Frankfurt', 'Nurnberg')\n",
    "    print('bfs Frankfurt-Nurnberg: {}'.format(bfs_path[1] if bfs_path[0] else 'Not found'))\n",
    "    print('dfs Frankfurt-Nurnberg: {}'.format(dfs_path[1] if dfs_path[0] else 'Not found'))\n",
    "\n",
    "    bfs_nopath = bfs(graph, 'Wurzburg', 'Kassel')\n",
    "    print('bfs Wurzburg-Kassel: {}'.format(bfs_nopath[1] if bfs_nopath[0] else 'Not found'))\n",
    "    dfs_nopath = dfs(graph, 'Wurzburg', 'Kassel')\n",
    "    print('dfs Wurzburg-Kassel: {}'.format(dfs_nopath[1] if dfs_nopath[0] else 'Not found'))\n"
   ]
  },
  {
   "cell_type": "code",
   "execution_count": 2,
   "metadata": {
    "collapsed": false
   },
   "outputs": [
    {
     "name": "stdout",
     "output_type": "stream",
     "text": [
      "['Frankfurt', 'Mannheim', 'Wurzburg', 'Kassel', 'Karlsruhe', 'Erfurt', 'Nurnberg']\n",
      "['Frankfurt', 'Mannheim', 'Karlsruhe', 'Augsburg', 'Munchen', 'Wurzburg', 'Erfurt', 'Nurnberg']\n",
      "bfs Frankfurt-Nurnberg: ['Frankfurt', 'Mannheim', 'Wurzburg', 'Kassel', 'Karlsruhe', 'Erfurt', 'Nurnberg']\n",
      "dfs Frankfurt-Nurnberg: ['Frankfurt', 'Mannheim', 'Karlsruhe', 'Augsburg', 'Munchen', 'Wurzburg', 'Erfurt', 'Nurnberg']\n",
      "bfs Wurzburg-Kassel: Not found\n",
      "dfs Wurzburg-Kassel: Not found\n"
     ]
    }
   ],
   "source": [
    "main()"
   ]
  },
  {
   "cell_type": "markdown",
   "metadata": {},
   "source": [
    "从性质来看，结果并不能表明什么，因为DFS和BFS不能很好地处理加权图（权重完全被忽\n",
    "略了）。处理加权图更好的算法是（Dijkstra的）最短路径优先算法、Bellman-Ford算法和A*算法\n",
    "等。然而，我们仍然希望按打算的那样遍历图。我们期望的算法输出是一个城市列表，这些城市\n",
    "是在搜索从Frankfurt到Nurnberg的路径时访问过的。 \n",
    "结果看起来没问题。BFS按广度进行遍历，DFS则按深度进行遍历，两个算法都没返回任何\n",
    "非期望的结果。这样不错，但我们的代码仍然有一个问题，那就是冗余。两个算法之间仅有一处\n",
    "不同，但其余代码都写了两遍。对于这个问题我们能做点什么吗？ "
   ]
  },
  {
   "cell_type": "markdown",
   "metadata": {},
   "source": [
    "是的！这个问题可以通过模板设计模式（Template design pattern）来解决。这个模式关注的\n",
    "是消除代码冗余，其思想是我们应该无需改变算法结构就能重新定义一个算法的某些部分。为了\n",
    "避免重复而进行必要的重构之后，我们来看看代码会变成什么样子。 "
   ]
  },
  {
   "cell_type": "code",
   "execution_count": 3,
   "metadata": {
    "collapsed": true
   },
   "outputs": [],
   "source": [
    "def traverse(graph, start, end, action):\n",
    "    path = []\n",
    "    visited = [start]\n",
    "    while visited:\n",
    "        current = visited.pop(0)\n",
    "        if current not in path:\n",
    "            path.append(current)\n",
    "            if current == end:\n",
    "                return (True, path)\n",
    "            # \n",
    "            if current not in graph:\n",
    "                continue\n",
    "        visited = action(visited, graph[current])\n",
    "    return (False, path)\n",
    "\n",
    "\n",
    "def extend_bfs_path(visited, current):\n",
    "    return visited + current\n",
    "\n",
    "\n",
    "def extend_dfs_path(visited, current):\n",
    "    return current + visited\n",
    "\n",
    "\n",
    "def main():\n",
    "    graph = {\n",
    "        'Frankfurt': ['Mannheim', 'Wurzburg', 'Kassel'],\n",
    "        'Mannheim': ['Karlsruhe'],\n",
    "        'Karlsruhe': ['Augsburg'],\n",
    "        'Augsburg': ['Munchen'],\n",
    "        'Wurzburg': ['Erfurt', 'Nurnberg'],\n",
    "        'Nurnberg': ['Stuttgart', 'Munchen'],\n",
    "        'Kassel': ['Munchen'],\n",
    "        'Erfurt': [],\n",
    "        'Stuttgart': [],\n",
    "        'Munchen': []\n",
    "    }\n",
    "\n",
    "    bfs_path = traverse(graph, 'Frankfurt', 'Nurnberg', extend_bfs_path)\n",
    "    dfs_path = traverse(graph, 'Frankfurt', 'Nurnberg', extend_dfs_path)\n",
    "    print('bfs Frankfurt-Nurnberg: {}'.format(bfs_path[1] if bfs_path[0] else 'Not found'))\n",
    "    print('dfs Frankfurt-Nurnberg: {}'.format(dfs_path[1] if dfs_path[0] else 'Not found'))\n",
    "\n",
    "    bfs_nopath = traverse(graph, 'Wurzburg', 'Kassel', extend_bfs_path)\n",
    "    print('bfs Wurzburg-Kassel: {}'.format(bfs_nopath[1] if bfs_nopath[0] else 'Not found'))\n",
    "    dfs_nopath = traverse(graph, 'Wurzburg', 'Kassel', extend_dfs_path)\n",
    "    print('dfs Wurzburg-Kassel: {}'.format(dfs_nopath[1] if dfs_nopath[0] else 'Not found'))\n"
   ]
  },
  {
   "cell_type": "code",
   "execution_count": 4,
   "metadata": {
    "collapsed": false
   },
   "outputs": [
    {
     "name": "stdout",
     "output_type": "stream",
     "text": [
      "bfs Frankfurt-Nurnberg: ['Frankfurt', 'Mannheim', 'Wurzburg', 'Kassel', 'Karlsruhe', 'Erfurt', 'Nurnberg']\n",
      "dfs Frankfurt-Nurnberg: ['Frankfurt', 'Mannheim', 'Karlsruhe', 'Augsburg', 'Munchen', 'Wurzburg', 'Erfurt', 'Nurnberg']\n",
      "bfs Wurzburg-Kassel: Not found\n",
      "dfs Wurzburg-Kassel: Not found\n"
     ]
    }
   ],
   "source": [
    "main()"
   ]
  },
  {
   "cell_type": "markdown",
   "metadata": {},
   "source": [
    "不再有bfs()和dfs()两个函数，我们将代码重构为使用单个traverse()函数。 traverse()\n",
    "函数实际上是一个模板函数。它接受一个参数action，该参数是一个“知道”如何延伸路径的\n",
    "函数。根据要使用的算法，我们可以传递extend_bfs_path()或extend_dfs_path()作为目\n",
    "标动作。 "
   ]
  },
  {
   "cell_type": "markdown",
   "metadata": {},
   "source": [
    "你也许会争论说，通过在traverse()内部添加一个条件来检测应该使用哪个遍历算法，也\n",
    "能达到相同的结果。下面的代码展示了这个思路。 "
   ]
  },
  {
   "cell_type": "code",
   "execution_count": 5,
   "metadata": {
    "collapsed": true
   },
   "outputs": [],
   "source": [
    "BFS = 1\n",
    "DFS = 2\n",
    "\n",
    "\n",
    "def traverse(graph, start, end, algorithm):\n",
    "    path = []\n",
    "    visited = [start]\n",
    "    while visited:\n",
    "        current = visited.pop(0)\n",
    "        if current not in path:\n",
    "            path.append(current)\n",
    "            if current == end:\n",
    "                return (True, path)\n",
    "            # 顶点不相连，则跳过\n",
    "            if current not in graph:\n",
    "                continue\n",
    "        if algorithm == BFS:\n",
    "            visited = extend_bfs_path(visited, graph[current])\n",
    "        elif algorithm == DFS:\n",
    "            visited = extend_dfs_path(visited, graph[current])\n",
    "        else:\n",
    "            raise ValueError(\"No such algorithm\")\n",
    "    return (False, path)\n",
    "\n",
    "\n",
    "def extend_bfs_path(visited, current):\n",
    "    return visited + current\n",
    "\n",
    "\n",
    "def extend_dfs_path(visited, current):\n",
    "    return current + visited\n",
    "\n",
    "\n",
    "def main():\n",
    "    graph = {\n",
    "        'Frankfurt': ['Mannheim', 'Wurzburg', 'Kassel'],\n",
    "        'Mannheim': ['Karlsruhe'],\n",
    "        'Karlsruhe': ['Augsburg'],\n",
    "        'Augsburg': ['Munchen'],\n",
    "        'Wurzburg': ['Erfurt', 'Nurnberg'],\n",
    "        'Nurnberg': ['Stuttgart', 'Munchen'],\n",
    "        'Kassel': ['Munchen'],\n",
    "        'Erfurt': [],\n",
    "        'Stuttgart': [],\n",
    "        'Munchen': []\n",
    "    }\n",
    "\n",
    "    bfs_path = traverse(graph, 'Frankfurt', 'Nurnberg', 1)\n",
    "    dfs_path = traverse(graph, 'Frankfurt', 'Nurnberg', 2)\n",
    "    print('bfs Frankfurt-Nurnberg: {}'.format(bfs_path[1] if bfs_path[0] else 'Not found'))\n",
    "    print('dfs Frankfurt-Nurnberg: {}'.format(dfs_path[1] if dfs_path[0] else 'Not found'))\n",
    "\n",
    "    bfs_nopath = traverse(graph, 'Wurzburg', 'Kassel', 1)\n",
    "    print('bfs Wurzburg-Kassel: {}'.format(bfs_nopath[1] if bfs_nopath[0] else 'Not found'))\n",
    "    dfs_nopath = traverse(graph, 'Wurzburg', 'Kassel', 2)\n",
    "    print('dfs Wurzburg-Kassel: {}'.format(dfs_nopath[1] if dfs_nopath[0] else 'Not found'))\n"
   ]
  },
  {
   "cell_type": "code",
   "execution_count": 6,
   "metadata": {
    "collapsed": false
   },
   "outputs": [
    {
     "name": "stdout",
     "output_type": "stream",
     "text": [
      "bfs Frankfurt-Nurnberg: ['Frankfurt', 'Mannheim', 'Wurzburg', 'Kassel', 'Karlsruhe', 'Erfurt', 'Nurnberg']\n",
      "dfs Frankfurt-Nurnberg: ['Frankfurt', 'Mannheim', 'Karlsruhe', 'Augsburg', 'Munchen', 'Wurzburg', 'Erfurt', 'Nurnberg']\n",
      "bfs Wurzburg-Kassel: Not found\n",
      "dfs Wurzburg-Kassel: Not found\n"
     ]
    }
   ],
   "source": [
    "main()"
   ]
  },
  {
   "cell_type": "markdown",
   "metadata": {},
   "source": [
    "我不喜欢这个方案，有以下几个原因。   \n",
    " 它使得traverse()难以维护。如果添加第三种方式来延伸路径，就需要扩展traverse()\n",
    "的代码，再添加一个条件来检测是否使用新的路径延伸动作。更好的方案是traverse()  \n",
    "能发挥作用却好像根本不知道应该执行哪个action，因为这样在traverse()中不要求\n",
    "什么特殊逻辑。 \n",
    " 它仅对只有一行区别的算法有效。如果存在更多区别，那么与让本应归属action的具体\n",
    "细节污染traverse()函数相比，创建一个新函数会好得多。      \n",
    " 它使得traverse()更慢。这是因为每次traverse()执行时，都需要显式地检测应该执\n",
    "行哪个遍历函数。    "
   ]
  },
  {
   "cell_type": "markdown",
   "metadata": {},
   "source": [
    "### 现实生活的例子 \n",
    "工人的日程，特别是对于同一个公司的工人而言，非常接近于模板设计模式。所有工人都遵\n",
    "从或多或少相同的例行流程，但例行流程的某些特定部分区别又很大。情况如下图所示，该图由\n",
    "www.sourcemaking.com提供（请参考网页［t.cn/RqrBWXo］）。图上展示的模板模式与使用Python\n",
    "实现的模板模式的根本区别在于Python中不强制使用继承。仅在继承对实现有益时，我们才使用\n",
    "它。如果没有实际益处，则可以忽略它，并使用命令和输入惯例。 "
   ]
  },
  {
   "cell_type": "markdown",
   "metadata": {},
   "source": [
    "### 实现 \n",
    "本节中，我们将实现一个横幅生成器。想法很简单，将一段文本发送给一个函数，该函数要\n",
    "生成一个包含该文本的横幅。横幅有多种风格，比如点或虚线围绕文本。横幅生成器有一个默认\n",
    "风格，但应该能够使用我们自己提供的风格。 \n",
    "函数generate_banner()是我们的模板函数。它接受一个输入参数（msg，希望横幅包含\n",
    "的文本）和一个可选参数（style，希望使用的风格）。默认风格是dots_style，我们马上就能\n",
    "看到。generate_banner()以一个简单的头部和尾部来包装带样式的文本。实际上，这个头部\n",
    "和尾部可以复杂得多，但在这里调用可以生成头部和尾部的函数来替代仅仅输出简单字符串也无\n",
    "不可。 "
   ]
  },
  {
   "cell_type": "code",
   "execution_count": 8,
   "metadata": {
    "collapsed": false
   },
   "outputs": [],
   "source": [
    "from cowpy import cow\n",
    "\n",
    "\n",
    "def dots_style(msg):\n",
    "    msg = msg.capitalize()\n",
    "    msg = '.' * 10 + msg + '.' * 10\n",
    "    return msg\n",
    "\n",
    "\n",
    "def admire_style(msg):\n",
    "    msg = msg.upper()\n",
    "    return '!'.join(msg)\n",
    "\n",
    "\n",
    "def cow_style(msg):\n",
    "    msg = cow.milk_random_cow(msg)\n",
    "    return msg\n",
    "\n",
    "\n",
    "def generate_banner(msg, style=dots_style):\n",
    "    print('-- start of banner --')\n",
    "    print(style(msg))\n",
    "    print('-- end of banner --\\n\\n')\n",
    "\n",
    "\n",
    "def main():\n",
    "    msg = 'happy coding'\n",
    "    [generate_banner(msg, style) for style in (dots_style, admire_style, cow_style)]"
   ]
  },
  {
   "cell_type": "code",
   "execution_count": 9,
   "metadata": {
    "collapsed": false
   },
   "outputs": [
    {
     "name": "stdout",
     "output_type": "stream",
     "text": [
      "-- start of banner --\n",
      "..........Happy coding..........\n",
      "-- end of banner --\n",
      "\n",
      "\n",
      "-- start of banner --\n",
      "H!A!P!P!Y! !C!O!D!I!N!G\n",
      "-- end of banner --\n",
      "\n",
      "\n",
      "-- start of banner --\n",
      " ______________ \n",
      "< happy coding >\n",
      " -------------- \n",
      "  \\\n",
      "   \\   \\_\\_    _/_/\n",
      "    \\      \\__/\n",
      "           (oo)\\_______\n",
      "           (__)\\       )\\/\\\n",
      "            U    ||----w |\n",
      "               ||     ||\n",
      "-- end of banner --\n",
      "\n",
      "\n"
     ]
    }
   ],
   "source": [
    "main()"
   ]
  },
  {
   "cell_type": "code",
   "execution_count": null,
   "metadata": {
    "collapsed": true
   },
   "outputs": [],
   "source": []
  }
 ],
 "metadata": {
  "anaconda-cloud": {},
  "kernelspec": {
   "display_name": "Python [default]",
   "language": "python",
   "name": "python3"
  },
  "language_info": {
   "codemirror_mode": {
    "name": "ipython",
    "version": 3
   },
   "file_extension": ".py",
   "mimetype": "text/x-python",
   "name": "python",
   "nbconvert_exporter": "python",
   "pygments_lexer": "ipython3",
   "version": "3.5.2"
  }
 },
 "nbformat": 4,
 "nbformat_minor": 1
}
