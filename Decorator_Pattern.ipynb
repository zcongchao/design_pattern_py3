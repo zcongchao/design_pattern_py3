{
 "cells": [
  {
   "cell_type": "markdown",
   "metadata": {},
   "source": [
    "### 装饰器模式    \n",
    "任何时候，只要我们想给一个对象添加附加的功能，就有多个不同的选项供我们选择。我们可以选择：\n",
    "\n",
    "\n",
    "直接对类的对象添加功能，如果可行的话（例如，添加一个新方法）\n",
    "\n",
    "合成\n",
    "\n",
    "继承\n",
    "通常对合成的选择应该优先于继承，因为继承会使代码很难重复使用，而且继承是静态的，它会被应用到整个类，以及类的全部实例。     \n",
    "设计模式给我们动态地（运行时）提供了扩展一个对象的第四个选择：装饰器。装饰器模式能够动态地给一个对象添加信任，而且是使用透明模式（不会影响到其他的对象）。"
   ]
  },
  {
   "cell_type": "markdown",
   "metadata": {},
   "source": [
    "在很多的编程语言中，装饰器模式是通过使用子类化（继承）实现的［GOF95，198页］。在Python中我们可以（而且应该）使用内建的装饰器功能。Python装饰器是专门用来改变Python语法的，它用来扩展一个类的行为，方法，或者函数不需要用到继承。就实现的术语观点来看，Python装饰器是一个可调用的对象（函数、方法、类）能够接受函数对象作为输入，并返回另外一个不同的函数。这就意味着任何一个拥有这些特性的可调用对象都可以被当作装饰器。在具体实现部分，我们会学习到如何实现并利用装饰器。"
   ]
  },
  {
   "cell_type": "markdown",
   "metadata": {},
   "source": [
    "装饰器模式用于实现横切关注时特别出色。横切关注的例子有:\n",
    "数据验证\n",
    "\n",
    "事物处理（这种场景下的事物类似于数据库事物，感觉上所有的步骤要么都应该是成功，要么事物应该失败。）\n",
    "\n",
    "缓存\n",
    "\n",
    "登录\n",
    "\n",
    "监控\n",
    "\n",
    "调试\n",
    "\n",
    "业务规则\n",
    "\n",
    "压缩\n",
    "\n",
    "加密"
   ]
  },
  {
   "cell_type": "markdown",
   "metadata": {},
   "source": [
    "Python装饰器通用而且非常强大。你可以在python.org上的装饰器库找到很多如何使用的例子。在本节，我们会看到如何如何实现一个记忆器装饰器。所有的递归函数都可以从记忆器中获益，所以让我们选择非常流行的斐波那契序列示例。实现斐波那契的递归算法简单明了，但是存在重大的性能问题，即便是对于很小的值。"
   ]
  },
  {
   "cell_type": "code",
   "execution_count": 1,
   "metadata": {
    "collapsed": true
   },
   "outputs": [],
   "source": [
    "import functools \n",
    " \n",
    "def memoize(fn): \n",
    "    cache = dict() \n",
    " \n",
    "    @functools.wraps(fn) \n",
    "    def memoizer(*args): \n",
    "        if args not in cache: \n",
    "            cache[args] = fn(*args) \n",
    "        return cache[args] \n",
    " \n",
    "    return memoizer\n",
    "    \n",
    "@memoize \n",
    "def number_sum(n): \n",
    "    '''Returns the sum of the first n numbers''' \n",
    "    assert(n >= 0), 'n must be >= 0' \n",
    "    if n == 0:\n",
    "        return 0\n",
    "    else:\n",
    "        return n + number_sum(n-1)\n",
    " \n",
    "@memoize \n",
    "def fibonacci(n): \n",
    "    '''Returns the suite of Fibonacci numbers''' \n",
    "    assert(n >= 0), 'n must be >= 0'\n",
    "    if n in (0, 1):\n",
    "        return n\n",
    "    else:\n",
    "        return fibonacci(n-1) + fibonacci(n-2)    \n",
    "        \n",
    "def main():\n",
    "    from timeit import Timer\n",
    "\n",
    "    to_execute = [\n",
    "        (number_sum, \n",
    "         Timer('number_sum(300)', 'from __main__ import number_sum')),\n",
    "        (fibonacci, \n",
    "         Timer('fibonacci(100)', 'from __main__ import fibonacci'))    \n",
    "    ]\n",
    "    \n",
    "    for item in to_execute:\n",
    "        fn = item[0]\n",
    "        print('Function \"{}\": {}'.format(fn.__name__, fn.__doc__))\n",
    "        t = item[1]\n",
    "        print('Time: {}'.format(t.timeit()))\n",
    "        print()"
   ]
  },
  {
   "cell_type": "code",
   "execution_count": 2,
   "metadata": {
    "collapsed": false
   },
   "outputs": [
    {
     "name": "stdout",
     "output_type": "stream",
     "text": [
      "Function \"number_sum\": Returns the sum of the first n numbers\n",
      "Time: 0.2850154173434554\n",
      "\n",
      "Function \"fibonacci\": Returns the suite of Fibonacci numbers\n",
      "Time: 0.2621677975278492\n",
      "\n"
     ]
    }
   ],
   "source": [
    "main()"
   ]
  },
  {
   "cell_type": "markdown",
   "metadata": {},
   "source": [
    "Django框架使用装饰器来实现良好的扩展。例子就是视图装饰器。Django的视图装饰器可以用于：\n",
    "\n",
    "Restricting access to views based on the HTTP request\n",
    "\n",
    "Controlling the caching behavior on speci c views\n",
    "\n",
    "Controlling compression on a per-view basis\n",
    "\n",
    "Controlling caching based on speci c HTTP request headers\n",
    "\n",
    "限制基于HTTP请求的视图\n",
    "\n",
    "控制特定视图的缓存行为\n",
    "\n",
    "控制每个视图基础的压缩\n",
    "\n",
    "控制依据特定HTTP请求偷渡的缓存\n",
    "\n",
    "The Grok framework also uses decorators for achieving different goals such as [j.mp/grokdeco]:\n",
    "\n",
    "Grok框架也使用装饰器来实现不同的目标：\n",
    "\n",
    "Registering a function as an event subscriber\n",
    "\n",
    "Protecting a method with a speci c permission\n",
    "\n",
    "Implementing the Adapter pattern\n",
    "\n",
    "函数注册为一个时间订阅器\n",
    "\n",
    "对方法应用一个特定的权限\n",
    "\n",
    "实现适配器模式"
   ]
  },
  {
   "cell_type": "code",
   "execution_count": null,
   "metadata": {
    "collapsed": true
   },
   "outputs": [],
   "source": []
  }
 ],
 "metadata": {
  "kernelspec": {
   "display_name": "Python [default]",
   "language": "python",
   "name": "python3"
  },
  "language_info": {
   "codemirror_mode": {
    "name": "ipython",
    "version": 3
   },
   "file_extension": ".py",
   "mimetype": "text/x-python",
   "name": "python",
   "nbconvert_exporter": "python",
   "pygments_lexer": "ipython3",
   "version": "3.5.2"
  }
 },
 "nbformat": 4,
 "nbformat_minor": 1
}
