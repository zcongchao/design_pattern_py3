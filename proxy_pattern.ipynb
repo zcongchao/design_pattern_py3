{
 "cells": [
  {
   "cell_type": "markdown",
   "metadata": {},
   "source": [
    "### 代理模式 "
   ]
  },
  {
   "cell_type": "markdown",
   "metadata": {},
   "source": [
    "在某些应用中，我们想要在访问某个对象之前执行一个或多个重要的操作，例如，访问敏感\n",
    "信息——在允许用户访问敏感信息之前，我们希望确保用户具备足够的权限。操作系统中也存在\n",
    "类似的情况，用户必须具有管理员权限才能在系统中安装新程序。   \n",
    "上面提到的重要操作不一定与安全问题相关。延迟初始化（请参考网页［t.cn/Ryf47bV］）\n",
    "是另一个案例：我们想要把一个计算成本较高的对象的创建过程延迟到用户首次真正使用它时\n",
    "才进行。      \n",
    "这类操作通常使用代理设计模式（Proxy design pattern）来实现。该模式因使用代理（又名\n",
    "替代，surrogate）对象在访问实际对象之前执行重要操作而得其名。以下是四种不同的知名代理\n",
    "类型（请参考［GOF95，第234页］和网页［t.cn/RqrYEn9］）。    \n",
    " 远程代理：实际存在于不同地址空间（例如，某个网络服务器）的对象在本地的代理者。  \n",
    " 虚拟代理：用于懒初始化，将一个大计算量对象的创建延迟到真正需要的时候进行。 \n",
    " 保护/防护代理：控制对敏感对象的访问。   \n",
    " 智能（引用）代理：在对象被访问时执行额外的动作。此类代理的例子包括引用计数和\n",
    "线程安全检查。    \n",
    "我发现虚拟代理非常有用，所以现在通过一个例子来看看可以如何实现它。\n"
   ]
  },
  {
   "cell_type": "markdown",
   "metadata": {},
   "source": [
    "使用Python来创建虚拟代理存在很多方式，但我始终喜欢地道的/符合Python风格的实现。这\n",
    "里展示的代码源自网站stackoverflow.com用户Cyclone的一个超赞回答（请参考网页\n",
    "［t.cn/RqrYudC］） 。          \n",
    "为避免混淆，我先说明一下，在本节中，术语特性（property）、变量（variable）、\n",
    "属性（attribute）可相互替代使用。我们先创建一个LazyProperty类，用作一个修饰器。当它\n",
    "修饰某个特性时，LazyProperty惰性地（首次使用时）加载特性，而不是立即进行。__init__\n",
    "方法创建两个变量，用作初始化待修饰特性的方法的别名。method变量是一个实际方法的别名，\n",
    "method_name变量则是该方法名称的别名。为更好理解如何使用这两个别名，可以将其值输出\n",
    "到标准输出"
   ]
  },
  {
   "cell_type": "code",
   "execution_count": 1,
   "metadata": {
    "collapsed": true
   },
   "outputs": [],
   "source": [
    "class LazyProperty:\n",
    "\n",
    "    def __init__(self, method):\n",
    "        self.method = method\n",
    "        self.method_name = method.__name__\n",
    "        # print('function overriden: {}'.format(self.method))\n",
    "        # print(\"function's name: {}\".format(self.method_name))\n",
    "\n",
    "    def __get__(self, obj, cls):\n",
    "        if not obj:\n",
    "            return None\n",
    "        value = self.method(obj)\n",
    "        # print('value {}'.format(value))\n",
    "        setattr(obj, self.method_name, value)\n",
    "        return value\n",
    "\n",
    "\n",
    "class Test:\n",
    "\n",
    "    def __init__(self):\n",
    "        self.x = 'foo'\n",
    "        self.y = 'bar'\n",
    "        self._resource = None\n",
    "\n",
    "    @LazyProperty\n",
    "    def resource(self):\n",
    "        print('initializing self._resource which is: {}'.format(self._resource))\n",
    "        self._resource = tuple(range(5))    # cost large\n",
    "        return self._resource\n",
    "\n",
    "\n",
    "def main():\n",
    "    t = Test()\n",
    "    print(t.x)\n",
    "    print(t.y)\n",
    "\n",
    "    # resource()方法当作一个变量（可以使用t.resource替代t.resource()\n",
    "    print(t.resource)\n",
    "    print(t.resource)"
   ]
  },
  {
   "cell_type": "code",
   "execution_count": 2,
   "metadata": {
    "collapsed": false
   },
   "outputs": [
    {
     "name": "stdout",
     "output_type": "stream",
     "text": [
      "foo\n",
      "bar\n",
      "initializing self._resource which is: None\n",
      "(0, 1, 2, 3, 4)\n",
      "(0, 1, 2, 3, 4)\n"
     ]
    }
   ],
   "source": [
    "main()"
   ]
  },
  {
   "cell_type": "markdown",
   "metadata": {},
   "source": [
    "LazyProperty类实际上是一个描述符（请参考网页［t.cn/RqrYBND］）。描述符（descriptor）\n",
    "是Python中重写类属性访问方法（__get__()、__set__()和__delete__()）的默认行为要使\n",
    "用的一种推荐机制。LazyProperty类仅重写了__set__()，因为这是其需要重写的唯一访问方\n",
    "法。换句话说，我们无需重写所有访问方法。__get__()方法所访问的特性值，正是下层方法想\n",
    "要赋的值，并使用setattr()来手动赋值。__get__()实际做的事情非常简单，就是使用值来\n",
    "替代方法！这意味着不仅特性是惰性加载的，而且仅可以设置一次。我们马上就能看到这意味着\n",
    "什么。同样，取消注释以上代码的的注释行，以得到一些额外信息"
   ]
  },
  {
   "cell_type": "code",
   "execution_count": 13,
   "metadata": {
    "collapsed": false
   },
   "outputs": [
    {
     "name": "stdout",
     "output_type": "stream",
     "text": [
      "function overriden: <function Test.resource at 0x0000000004C95BF8>\n",
      "function's name: resource\n"
     ]
    }
   ],
   "source": [
    "class LazyProperty:\n",
    "\n",
    "    def __init__(self, method):\n",
    "        self.method = method\n",
    "        self.method_name = method.__name__\n",
    "        print('function overriden: {}'.format(self.method))\n",
    "        print(\"function's name: {}\".format(self.method_name))\n",
    "\n",
    "    def __get__(self, obj, cls):\n",
    "        if not obj:\n",
    "            return None\n",
    "        #print(obj)\n",
    "        value = self.method(obj)\n",
    "        print('value {}'.format(value))\n",
    "        setattr(obj, self.method_name, value)\n",
    "        return value\n",
    "\n",
    "\n",
    "class Test:\n",
    "\n",
    "    def __init__(self):\n",
    "        self.x = 'foo'\n",
    "        self.y = 'bar'\n",
    "        self._resource = None\n",
    "\n",
    "    @LazyProperty\n",
    "    def resource(self):\n",
    "        print('initializing self._resource which is: {}'.format(self._resource))\n",
    "        self._resource = tuple(range(5))    # 假设这一行的计算成本比较大\n",
    "        return self._resource\n",
    "\n",
    "\n",
    "def main():\n",
    "    t = Test()\n",
    "    #print(t)\n",
    "    print(t.x)\n",
    "    print(t.y)\n",
    "\n",
    "    # resource()方法当作一个变量（可以使用t.resource替代t.resource()\n",
    "    print(t.resource)\n",
    "    print(t.resource)"
   ]
  },
  {
   "cell_type": "code",
   "execution_count": 14,
   "metadata": {
    "collapsed": false
   },
   "outputs": [
    {
     "name": "stdout",
     "output_type": "stream",
     "text": [
      "foo\n",
      "bar\n",
      "initializing self._resource which is: None\n",
      "value (0, 1, 2, 3, 4)\n",
      "(0, 1, 2, 3, 4)\n",
      "(0, 1, 2, 3, 4)\n"
     ]
    }
   ],
   "source": [
    "main()"
   ]
  },
  {
   "cell_type": "markdown",
   "metadata": {},
   "source": [
    "从这个例子（文件lazy.py）的执行输出中，可以看出以下几点。     \n",
    " _resource变量实际不是在t实例创建时初始化的，而是在我们首次使用t.resource时。   ·  \n",
    " 第二次使用t.resource之时，并没有再次初始化变量。这就是为什么初始化字符串\n",
    "initializing self._resource which is:仅出现一次的原因。 "
   ]
  },
  {
   "cell_type": "markdown",
   "metadata": {},
   "source": [
    "### 现实生活的例子 \n",
    "芯片（又名芯片密码）卡（请参考网页［t.cn/RqrYdYx］ ）是现实生活中使用防护代理的一\n",
    "个好例子。借记/信用卡包含一个芯片，ATM机或读卡器需要先读取芯片；在芯片通过验证后，\n",
    "需要一个密码（PIN）才能完成交易。这意味着只有在物理地提供芯片卡并且知道密码时才能进\n",
    "行交易。 \n",
    "使用银行支票替代现金进行购买和交易是远程代理的一个例子。支票准许了对一个银行账户\n",
    "的访问。"
   ]
  },
  {
   "cell_type": "markdown",
   "metadata": {},
   "source": [
    "### 实现 \n",
    "为演示代理模式，我们将实现一个简单的保护代理来查看和添加用户。该服务提供以下两个\n",
    "选项。   \n",
    " 查看用户列表：这一操作不要求特殊权限。    \n",
    " 添加新用户：这一操作要求客户端提供一个特殊的密码。    \n",
    "SensitiveInfo类包含我们希望保护的信息。users变量是已有用户的列表。read()方法\n",
    "输出用户列表。add()方法将一个新用户添加到列表中  "
   ]
  },
  {
   "cell_type": "code",
   "execution_count": 1,
   "metadata": {
    "collapsed": true
   },
   "outputs": [],
   "source": [
    "class SensitiveInfo:\n",
    "\n",
    "    def __init__(self):\n",
    "        self.users = ['nick', 'tom', 'ben', 'mike']\n",
    "\n",
    "    def read(self):\n",
    "        print('There are {} users: {}'.format(len(self.users), ' '.join(self.users)))\n",
    "\n",
    "    def add(self, user):\n",
    "        self.users.append(user)\n",
    "        print('Added user {}'.format(user))\n",
    "\n",
    "\n",
    "class Info:\n",
    "\n",
    "    # SensitiveInfo 保护代理\n",
    "\n",
    "    def __init__(self):\n",
    "        self.protected = SensitiveInfo()\n",
    "        self.secret = '0xdeadbeef'\n",
    "\n",
    "    def read(self):\n",
    "        self.protected.read()\n",
    "    #验证密码\n",
    "    def add(self, user):\n",
    "        sec = input('what is the secret? ')\n",
    "        self.protected.add(user) if sec == self.secret else print(\"That's wrong!\")\n",
    "\n",
    "\n",
    "def main():\n",
    "    info = Info()\n",
    "    while True:\n",
    "        print('1. read list |==| 2. add user |==| 3. quit')\n",
    "        key = input('choose option: ')\n",
    "        if key == '1':\n",
    "            info.read()\n",
    "        elif key == '2':\n",
    "            name = input('choose username: ')\n",
    "            info.add(name)\n",
    "        elif key == '3':\n",
    "            exit()\n",
    "        else:\n",
    "            print('unknown option: {}'.format(key))\n"
   ]
  },
  {
   "cell_type": "code",
   "execution_count": null,
   "metadata": {
    "collapsed": false
   },
   "outputs": [
    {
     "name": "stdout",
     "output_type": "stream",
     "text": [
      "1. read list |==| 2. add user |==| 3. quit\n",
      "choose option: 1\n",
      "There are 4 users: nick tom ben mike\n",
      "1. read list |==| 2. add user |==| 3. quit\n"
     ]
    }
   ],
   "source": [
    "main()"
   ]
  },
  {
   "cell_type": "markdown",
   "metadata": {},
   "source": [
    "Info类是SensitiveInfo的一个保护代理。 secret变量值是客户端代码在添加新用户时被\n",
    "要求告知/提供的密码。注意，这只是一个例子。现实中，永远不要执行以下操作。    \n",
    " 在源代码中存储密码   \n",
    " 以明文形式存储密码    \n",
    " 使用一种弱（例如，MD5）或自定义加密形式   "
   ]
  },
  {
   "cell_type": "markdown",
   "metadata": {},
   "source": [
    "你已经发现这个代理示例中可以改进的缺陷或缺失特性了吗？我有如下一些建议。      \n",
    " 该示例有一个非常大的安全缺陷。没有什么能阻止客户端代码通过直接创建一个\n",
    "SensitveInfo实例来绕过应用的安全设置。优化示例来阻止这种情况。一种方式是使用\n",
    "abc模块来禁止直接实例化SensitiveInfo。在这种情况下，会要求进行其他哪些代码\n",
    "变更呢？    \n",
    " 一个基本的安全原则是，我们绝不应该存储明文密码。只要我们知道使用哪个库，安全\n",
    "地存储密码并不是一件难事（请参考网页［t.cn/zQf0g3c］） 。如果你对安全感兴趣，阅读\n",
    "这篇文章，并尝试实现一种外部存储密码的安全方式（例如，在一个文件或数据库中）。     \n",
    " 应用仅支持添加新用户，那么如何删除一个已有用户呢？添加一个remove()方法。   \n",
    "remove()应该是一个特权操作吗？   "
   ]
  },
  {
   "cell_type": "markdown",
   "metadata": {
    "collapsed": true
   },
   "source": [
    "### 应用案例   \n",
    "因为存在至少四种常见的代理类型，所以代理设计模式有很多应用案例，如下所示。 \n",
    " 在使用私有网络或云搭建一个分布式系统时。在分布式系统中，一些对象存在于本地内\n",
    "存中，一些对象存在于远程计算机的内存中。如果我们不想本地代码关心两者之间的区\n",
    "别，那么可以创建一个远程代理来隐藏/封装，使得应用的分布式性质透明化。    \n",
    " 因过早创建计算成本较高的对象导致应用遭受性能问题之时。使用虚拟代理引入懒初始\n",
    "化，仅在真正需要对象之时才创建，能够明显提高性能。    \n",
    " 用于检查一个用户是否有足够权限来访问某个信息片段。如果应用要处理敏感信息（例\n",
    "如，医疗数据），我们会希望确保用户在被准许之后才能访问/修改数据。一个保护/防护\n",
    "代理可以处理所有安全相关的行为。    \n",
    " 应用（或库、工具集、框架等）使用多线程，而我们希望把线程安全的重任从客户端代码转移到应用。这种情况下，可以创建一个智能代理，对客户端隐藏线程安全的复杂性。     \n",
    " 对象关系映射（Object-Relational Mapping， ORM） API也是一个如何使用远程代理的例子。   \n",
    "包括Django在内的许多流行Web框架使用一个ORM来提供类OOP的关系型数据库访问。\n",
    "ORM是关系型数据库的代理，数据库可以部署在任意地方，本地或远程服务器都可以。"
   ]
  },
  {
   "cell_type": "code",
   "execution_count": null,
   "metadata": {
    "collapsed": true
   },
   "outputs": [],
   "source": []
  }
 ],
 "metadata": {
  "anaconda-cloud": {},
  "kernelspec": {
   "display_name": "Python [default]",
   "language": "python",
   "name": "python3"
  },
  "language_info": {
   "codemirror_mode": {
    "name": "ipython",
    "version": 3
   },
   "file_extension": ".py",
   "mimetype": "text/x-python",
   "name": "python",
   "nbconvert_exporter": "python",
   "pygments_lexer": "ipython3",
   "version": "3.5.2"
  }
 },
 "nbformat": 4,
 "nbformat_minor": 1
}
