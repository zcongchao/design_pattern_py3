{
 "cells": [
  {
   "cell_type": "markdown",
   "metadata": {},
   "source": [
    "### 代理模式 "
   ]
  },
  {
   "cell_type": "markdown",
   "metadata": {},
   "source": [
    "在某些应用中，我们想要在访问某个对象之前执行一个或多个重要的操作，例如，访问敏感\n",
    "信息——在允许用户访问敏感信息之前，我们希望确保用户具备足够的权限。操作系统中也存在\n",
    "类似的情况，用户必须具有管理员权限才能在系统中安装新程序。   \n",
    "上面提到的重要操作不一定与安全问题相关。延迟初始化（请参考网页［t.cn/Ryf47bV］）\n",
    "是另一个案例：我们想要把一个计算成本较高的对象的创建过程延迟到用户首次真正使用它时\n",
    "才进行。      \n",
    "这类操作通常使用代理设计模式（Proxy design pattern）来实现。该模式因使用代理（又名\n",
    "替代，surrogate）对象在访问实际对象之前执行重要操作而得其名。以下是四种不同的知名代理\n",
    "类型（请参考［GOF95，第234页］和网页［t.cn/RqrYEn9］）。    \n",
    " 远程代理：实际存在于不同地址空间（例如，某个网络服务器）的对象在本地的代理者。  \n",
    " 虚拟代理：用于懒初始化，将一个大计算量对象的创建延迟到真正需要的时候进行。 \n",
    " 保护/防护代理：控制对敏感对象的访问。   \n",
    " 智能（引用）代理：在对象被访问时执行额外的动作。此类代理的例子包括引用计数和\n",
    "线程安全检查。    \n",
    "我发现虚拟代理非常有用，所以现在通过一个例子来看看可以如何实现它。\n"
   ]
  },
  {
   "cell_type": "markdown",
   "metadata": {},
   "source": [
    "使用Python来创建虚拟代理存在很多方式，但我始终喜欢地道的/符合Python风格的实现。这\n",
    "里展示的代码源自网站stackoverflow.com用户Cyclone的一个超赞回答（请参考网页\n",
    "［t.cn/RqrYudC］） 。          \n",
    "为避免混淆，我先说明一下，在本节中，术语特性（property）、变量（variable）、\n",
    "属性（attribute）可相互替代使用。我们先创建一个LazyProperty类，用作一个修饰器。当它\n",
    "修饰某个特性时，LazyProperty惰性地（首次使用时）加载特性，而不是立即进行。__init__\n",
    "方法创建两个变量，用作初始化待修饰特性的方法的别名。method变量是一个实际方法的别名，\n",
    "method_name变量则是该方法名称的别名。为更好理解如何使用这两个别名，可以将其值输出\n",
    "到标准输出"
   ]
  },
  {
   "cell_type": "code",
   "execution_count": null,
   "metadata": {
    "collapsed": true
   },
   "outputs": [],
   "source": [
    "class LazyProperty:\n",
    "\n",
    "    def __init__(self, method):\n",
    "        self.method = method\n",
    "        self.method_name = method.__name__\n",
    "        # print('function overriden: {}'.format(self.method))\n",
    "        # print(\"function's name: {}\".format(self.method_name))\n",
    "\n",
    "    def __get__(self, obj, cls):\n",
    "        if not obj:\n",
    "            return None\n",
    "        value = self.method(obj)\n",
    "        # print('value {}'.format(value))\n",
    "        setattr(obj, self.method_name, value)\n",
    "        return value\n",
    "\n",
    "\n",
    "class Test:\n",
    "\n",
    "    def __init__(self):\n",
    "        self.x = 'foo'\n",
    "        self.y = 'bar'\n",
    "        self._resource = None\n",
    "\n",
    "    @LazyProperty\n",
    "    def resource(self):\n",
    "        print('initializing self._resource which is: {}'.format(self._resource))\n",
    "        self._resource = tuple(range(5))    # cost large\n",
    "        return self._resource\n",
    "\n",
    "\n",
    "def main():\n",
    "    t = Test()\n",
    "    print(t.x)\n",
    "    print(t.y)\n",
    "\n",
    "    # more...\n",
    "    print(t.resource)\n",
    "    print(t.resource)"
   ]
  },
  {
   "cell_type": "code",
   "execution_count": null,
   "metadata": {
    "collapsed": true
   },
   "outputs": [],
   "source": [
    "main()"
   ]
  },
  {
   "cell_type": "code",
   "execution_count": 1,
   "metadata": {
    "collapsed": true
   },
   "outputs": [],
   "source": [
    "class SensitiveInfo:\n",
    "\n",
    "    def __init__(self):\n",
    "        self.users = ['nick', 'tom', 'ben', 'mike']\n",
    "\n",
    "    def read(self):\n",
    "        print('There are {} users: {}'.format(len(self.users), ' '.join(self.users)))\n",
    "\n",
    "    def add(self, user):\n",
    "        self.users.append(user)\n",
    "        print('Added user {}'.format(user))\n",
    "\n",
    "\n",
    "class Info:\n",
    "\n",
    "    # SensitiveInfo 保護代理\n",
    "\n",
    "    def __init__(self):\n",
    "        self.protected = SensitiveInfo()\n",
    "        self.secret = '0xdeadbeef'\n",
    "\n",
    "    def read(self):\n",
    "        self.protected.read()\n",
    "\n",
    "    def add(self, user):\n",
    "        sec = input('what is the secret? ')\n",
    "        self.protected.add(user) if sec == self.secret else print(\"That's wrong!\")\n",
    "\n",
    "\n",
    "def main():\n",
    "    info = Info()\n",
    "    while True:\n",
    "        print('1. read list |==| 2. add user |==| 3. quit')\n",
    "        key = input('choose option: ')\n",
    "        if key == '1':\n",
    "            info.read()\n",
    "        elif key == '2':\n",
    "            name = input('choose username: ')\n",
    "            info.add(name)\n",
    "        elif key == '3':\n",
    "            exit()\n",
    "        else:\n",
    "            print('unknown option: {}'.format(key))\n"
   ]
  },
  {
   "cell_type": "code",
   "execution_count": null,
   "metadata": {
    "collapsed": false
   },
   "outputs": [
    {
     "name": "stdout",
     "output_type": "stream",
     "text": [
      "1. read list |==| 2. add user |==| 3. quit\n",
      "choose option: 1\n",
      "There are 4 users: nick tom ben mike\n",
      "1. read list |==| 2. add user |==| 3. quit\n"
     ]
    }
   ],
   "source": [
    "main()"
   ]
  },
  {
   "cell_type": "code",
   "execution_count": null,
   "metadata": {
    "collapsed": true
   },
   "outputs": [],
   "source": []
  }
 ],
 "metadata": {
  "kernelspec": {
   "display_name": "Python [default]",
   "language": "python",
   "name": "python3"
  },
  "language_info": {
   "codemirror_mode": {
    "name": "ipython",
    "version": 3
   },
   "file_extension": ".py",
   "mimetype": "text/x-python",
   "name": "python",
   "nbconvert_exporter": "python",
   "pygments_lexer": "ipython3",
   "version": "3.5.2"
  }
 },
 "nbformat": 4,
 "nbformat_minor": 1
}
