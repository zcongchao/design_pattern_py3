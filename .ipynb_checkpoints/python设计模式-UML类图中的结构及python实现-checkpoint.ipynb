{
 "cells": [
  {
   "cell_type": "markdown",
   "metadata": {},
   "source": [
    "ubuntu环境下下载安装命令为：apt-get install graphviz"
   ]
  },
  {
   "cell_type": "markdown",
   "metadata": {},
   "source": [
    "Graphviz 是贝尔实验室开源的图形绘制工具包       \n",
    "Pyreverse 是常用的用来分析Python代码和类关系的工具     \n",
    "将两者结合起来使用可以绘制Python的UML类图   "
   ]
  },
  {
   "cell_type": "markdown",
   "metadata": {},
   "source": [
    "sudo pip install pylint       \n",
    "报错，Command \"python setup.py egg_info\" failed with error code 1 in /tmp/pip-build-_ROiME/typed-ast/    \n",
    "\n",
    "这里我最终使用 conda install pylint成功安装"
   ]
  },
  {
   "cell_type": "code",
   "execution_count": 2,
   "metadata": {
    "collapsed": true
   },
   "outputs": [],
   "source": [
    "#scheduler/abstractpro.py __init__.py\n",
    "from abc import ABCMeta, abstractmethod, abstractproperty\n",
    "\n",
    "class Drawable:\n",
    "    __metaclass__ = ABCMeta\n",
    "\n",
    "    @abstractproperty\n",
    "    def size(self):\n",
    "        pass\n",
    "\n",
    "    @abstractmethod\n",
    "    def draw(self, x, y, scale=1.0):\n",
    "        pass\n",
    "\n",
    "\n",
    "class Cicle(Drawable):\n",
    "    def size(self):\n",
    "        print 'Cicle'\n",
    "\n",
    "    def draw(self, x, y, scale=1.0):\n",
    "        print str(x*y*scale)\n",
    "\n",
    "c = Cicle()"
   ]
  },
  {
   "cell_type": "code",
   "execution_count": null,
   "metadata": {
    "collapsed": true
   },
   "outputs": [],
   "source": [
    "3.使用，可以参考的命令为，scheduler为存放代码的目录\n",
    "pyreverse -ASmy -o png scheduler/"
   ]
  },
  {
   "cell_type": "code",
   "execution_count": null,
   "metadata": {
    "collapsed": true
   },
   "outputs": [],
   "source": []
  }
 ],
 "metadata": {
  "kernelspec": {
   "display_name": "Python [Root]",
   "language": "python",
   "name": "Python [Root]"
  },
  "language_info": {
   "codemirror_mode": {
    "name": "ipython",
    "version": 2
   },
   "file_extension": ".py",
   "mimetype": "text/x-python",
   "name": "python",
   "nbconvert_exporter": "python",
   "pygments_lexer": "ipython2",
   "version": "2.7.11"
  }
 },
 "nbformat": 4,
 "nbformat_minor": 0
}
