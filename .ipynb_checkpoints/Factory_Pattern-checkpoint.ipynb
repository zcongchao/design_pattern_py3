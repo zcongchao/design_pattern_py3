{
 "cells": [
  {
   "cell_type": "markdown",
   "metadata": {},
   "source": [
    "## 工厂模式"
   ]
  },
  {
   "cell_type": "markdown",
   "metadata": {},
   "source": [
    "创造模式处理一个对象的创建。创造模式的目的是为了在不按照约定而直接地创建的地方提供可选择的情况。\n",
    "\n",
    "在工厂模式中，客户端查询一个对象而不知道这个对象来自哪里（即，哪一个类被用来生成它）。在一个工厂背后的思想是简化一个对象的创建。如果这个结果是通过一个中心函数来完成，相比之下要让一个客户端直接地使用类实例化来创建对象，跟踪哪一个对象被创建则会更容易些。通过分离要使用的代码，工厂减少了一个应用维护的复杂性。\n",
    "\n",
    "工厂通常以两张形式出现：工厂模式，是一个每次输入参数都返回一个不同的方法（在Python术语中称为函数）；抽象工厂，它是一组工厂方法用于创建相关产品的系列。"
   ]
  },
  {
   "cell_type": "markdown",
   "metadata": {},
   "source": [
    "在工厂方法中，我们执行一个单独的函数，传递一个参数，它提供了我们想要的是什么 信息。我们不要求知道任何关于这个对象的如何实现的细节，以及它来自哪里。"
   ]
  },
  {
   "cell_type": "markdown",
   "metadata": {},
   "source": [
    "一个工厂方法模式现实中的使用是用在塑料玩具厂。建模粉用于制造塑料玩具是相同的，但不同的外形可以使用不同的塑料模具生产它。这就像有一个工厂模式它有一个可以输入我们想要的外形名称的地方，而且输出是我们所要求的塑料外形。"
   ]
  },
  {
   "cell_type": "markdown",
   "metadata": {},
   "source": [
    "如果你意识到你不能够追踪应用的对象创建，那是因为这些代码被写在很多地方而不是一个单独的函数或者方法，你就应该考虑使用那个工厂方法模式。工厂方法使一个对象的创建集中化，追踪对象也变得非常简单。注意，它是完完全全可以创建不止一个工厂方法的。逻辑上，每一个工厂方法组的对象创建都是相似的。例如，一个工厂方法可以负责连接不同的数据库（MySQL， SQLite），另外一个工厂方法可以负责创建你所请求的几何对象（圆形，三角形），等等。\n",
    "\n",
    "工厂方法在你想要从对象使用中分离对象创建时也是大有裨益的。我们在创建一个对象时不合并或者绑定到一个指定的类，通过调用一个函数我们只提供我们所想要的部分信息。这意味着将改变引入到函数很简单而且不要求任何对所使用代码的改变。\n",
    "\n",
    "另外的用法值得一提是一个应用的提高性能和内存使用的关联。工厂方法可以由只创建一个绝对必要的新对象来提高性能和内存利用。当我们创建对象时使用一个直接的类实例，每次一个新对象（除非，类使用内部缓存，不过通常没有这种情况）都要额外的内存来分配。我们可以看到在下面代码（文件id.py）的实践中，它创建同一个类A的两个实例，使用id()函数去对比这些实例的内存地址。\n",
    "\n",
    "这些地址也在输出中打印出来，所以我们可以检验它们。如下，内存地址的实际情况是两个有明显区别的对象的以不同方法来创建："
   ]
  },
  {
   "cell_type": "code",
   "execution_count": 2,
   "metadata": {
    "collapsed": false
   },
   "outputs": [
    {
     "name": "stdout",
     "output_type": "stream",
     "text": [
      "False\n",
      "<__main__.A object at 0x0000000004C9D630> <__main__.A object at 0x0000000004C9D5C0>\n"
     ]
    }
   ],
   "source": [
    "class A(object):\n",
    "\tpass\n",
    "\t\n",
    "if __name__ == '__main__':\n",
    "\ta = A()\n",
    "\tb = A()\n",
    "\t\n",
    "\tprint(id(a) == id(b))\n",
    "\tprint(a, b)"
   ]
  },
  {
   "cell_type": "markdown",
   "metadata": {},
   "source": [
    "### 实现\n",
    "数据表现有很多形式。存储和重取数据有两种主要的文件类型：人类可读的文件和二进制文件。人类可读的文件例子有XML，Atom，YAML和JSON。二进制文件的例子有被SQLite所使用的 .sq3 文件格式，用于听音乐的 .mp3 文件格式。\n",
    "\n",
    "这个例子中，我们会关注两个流行的人类可读格式：XML和JSON。尽管，人类可读文件通常解析较慢于二进制文件，但是它们让数据交换，检查，和修改变得非常容易。因此，建议选择使用人类可读文件，除非有其他的限制让你不允许你这样做（主要地是难以接收的性能和专有的二进制格式）。\n",
    "\n",
    "这个问题中，我们在XML和JSON文件里已经有一些存储的数据，我们想要解析它们，重新取回一些信息。与此同时，我们想要集中化客户这些扩展服务的连接（以及未来所有的连接）。我们会使用工厂方法解决这个问题。这个例子只关注于XML和JSON，但是添加更多的服务支持也应该是简单明了的。\n",
    "\n",
    "首先，让我们看看数据文件。如下，XML文件person.xml，基于Wikipedia的例子，包含单独的信息（firstName, lastName, gender，等等）："
   ]
  },
  {
   "cell_type": "code",
   "execution_count": null,
   "metadata": {
    "collapsed": true
   },
   "outputs": [],
   "source": [
    "<persons>\n",
    "    <person>\n",
    "\t<firstName>John</firstName>\n",
    "    <lastName>Smith</lastName>\n",
    "    <age>25</age>\n",
    "    <address>\n",
    "      <streetAddress>21 2nd Street</streetAddress>\n",
    "      <city>New York</city>\n",
    "      <state>NY</state>\n",
    "      <postalCode>10021</postalCode>\n",
    "    </address>\n",
    "\t<phoneNumbers>\n",
    "\t      <phoneNumber type=\"home\">212 555-1234</phoneNumber>\n",
    "\t      <phoneNumber type=\"fax\">646 555-4567</phoneNumber>\n",
    "\t    </phoneNumbers>\n",
    "\t    <gender>\n",
    "\t      <type>male</type>\n",
    "\t    </gender>\n",
    "\t  </person>\n",
    "\t  <person>\n",
    "\t    <firstName>Jimy</firstName>\n",
    "\t    <lastName>Liar</lastName>\n",
    "\t    <age>19</age>\n",
    "\t    <address>\n",
    "\t      <streetAddress>18 2nd Street</streetAddress>\n",
    "\t      <city>New York</city>\n",
    "\t      <state>NY</state>\n",
    "\t      <postalCode>10021</postalCode>\n",
    "\t    </address>\n",
    "\t    <phoneNumbers>\n",
    "\t      <phoneNumber type=\"home\">212 555-1234</phoneNumber>\n",
    "\t  \t</phoneNumbers>\n",
    "\t\t      <gender>\n",
    "\t\t        <type>male</type>\n",
    "\t\t      </gender>\n",
    "\t\t    </person>\n",
    "\t\t    <person>\n",
    "\t\t      <firstName>Patty</firstName>\n",
    "\t\t      <lastName>Liar</lastName>\n",
    "\t\t      <age>20</age>\n",
    "\t\t      <address>\n",
    "\t\t        <streetAddress>18 2nd Street</streetAddress>\n",
    "\t\t        <city>New York</city>\n",
    "\t\t        <state>NY</state>\n",
    "\t\t        <postalCode>10021</postalCode>\n",
    "\t\t      </address>\n",
    "\t\t      <phoneNumbers>\n",
    "\t\t        <phoneNumber type=\"home\">212 555-1234</phoneNumber>\n",
    "\t\t        <phoneNumber type=\"mobile\">001 452-8819</phoneNumber>\n",
    "\t\t      </phoneNumbers>\n",
    "\t\t      <gender>\n",
    "\t\t        <type>female</type>\n",
    "\t\t\t\t    </gender>\n",
    "\t\t\t\t  </person>\n",
    "\t\t\t\t</persons>"
   ]
  },
  {
   "cell_type": "markdown",
   "metadata": {},
   "source": [
    "JSON文件donut.json，来自Github上面的Adobe账户， 包含甜甜圈信息（type,即价格和单元，ppu, topping，等等）如下："
   ]
  },
  {
   "cell_type": "code",
   "execution_count": null,
   "metadata": {
    "collapsed": true
   },
   "outputs": [],
   "source": [
    "[\n",
    "\t  {\n",
    "\t    \"id\": \"0001\",\n",
    "\t    \"type\": \"donut\",\n",
    "\t    \"name\": \"Cake\",\n",
    "\t    \"ppu\": 0.55,\n",
    "\t    \"batters\": {\n",
    "\t      \"batter\": [\n",
    "\t        { \"id\": \"1001\", \"type\": \"Regular\" },\n",
    "\t        { \"id\": \"1002\", \"type\": \"Chocolate\" },\n",
    "\t        { \"id\": \"1003\", \"type\": \"Blue berry\" },\n",
    "\t\t        { \"id\": \"1004\", \"type\": \"Devil's Food\" }\n",
    "\t\t      ]\n",
    "\t\t    },\n",
    "\t\t    \"topping\": [\n",
    "\t\t      { \"id\": \"5001\", \"type\": \"None\" },\n",
    "\t\t      { \"id\": \"5002\", \"type\": \"Glazed\" },\n",
    "\t\t      { \"id\": \"5005\", \"type\": \"Sugar\" },\n",
    "\t\t      { \"id\": \"5007\", \"type\": \"Powdered Sugar\" },\n",
    "\t\t      { \"id\": \"5006\", \"type\": \"Chocolate with Sprinkles\" },\n",
    "\t\t      { \"id\": \"5003\", \"type\": \"Chocolate\" },\n",
    "\t\t      { \"id\": \"5004\", \"type\": \"Maple\" }\n",
    "\t\t    ]\n",
    "\t\t  },\n",
    "\t\t  {\n",
    "\t\t    \"id\": \"0002\",\n",
    "\t\t\"type\": \"donut\",\n",
    "\t\t    \"name\": \"Raised\",\n",
    "\t\t    \"ppu\": 0.55,\n",
    "\t\t    \"batters\": {\n",
    "\t\t      \"batter\": [\n",
    "\t\t        { \"id\": \"1001\", \"type\": \"Regular\" }\n",
    "\t\t      ]\n",
    "\t\t    },\n",
    "\t\t    \"topping\": [\n",
    "\t\t      { \"id\": \"5001\", \"type\": \"None\" },\n",
    "\t\t      { \"id\": \"5002\", \"type\": \"Glazed\" },\n",
    "\t\t      { \"id\": \"5005\", \"type\": \"Sugar\" },\n",
    "\t\t      { \"id\": \"5003\", \"type\": \"Chocolate\" },\n",
    "\t\t      { \"id\": \"5004\", \"type\": \"Maple\" }\n",
    "\t\t    ]\n",
    "\t\t  },\n",
    "\t\t  {\n",
    "\t\t    \"id\": \"0003\",\n",
    "\t\t    \"type\": \"donut\",\n",
    "\t\t    \"name\": \"Old Fashioned\",\n",
    "\t\t    \"ppu\": 0.55,\n",
    "\t\t    \"batters\": {\n",
    "\t\t      \"batter\": [\n",
    "\t\t        { \"id\": \"1001\", \"type\": \"Regular\" },\n",
    "\t\t        { \"id\": \"1002\", \"type\": \"Chocolate\" }\n",
    "\t\t      ]\n",
    "\t\t    },\n",
    "\t\t    \"topping\": [\n",
    "\t\t      { \"id\": \"5001\", \"type\": \"None\" },\n",
    "\t\t      { \"id\": \"5002\", \"type\": \"Glazed\" },\n",
    "\t\t      { \"id\": \"5003\", \"type\": \"Chocolate\" },\n",
    "\t\t      { \"id\": \"5004\", \"type\": \"Maple\" }\n",
    "\t\t    ]\n",
    "\t\t  }\n",
    "\t\t]"
   ]
  },
  {
   "cell_type": "code",
   "execution_count": 6,
   "metadata": {
    "collapsed": false
   },
   "outputs": [],
   "source": [
    "import xml.etree.ElementTree as etree\n",
    "import json\n",
    "\n",
    "class JSONConnector:\n",
    "\t\tdef __init__(self, filepath):\n",
    "\t\t\tself.data = dict()\n",
    "\t\t\twith open(filepath, mode='r', encoding='utf-8') as f:\n",
    "\t\t\t\tself.data = json.load(f)\n",
    "\t\t\n",
    "\t\t@property\n",
    "\t\tdef parsed_data(self):\n",
    "\t\t\treturn self.data\n",
    "        \n",
    "class XMLConnector:\n",
    "\t\t\n",
    "\t\tdef __init__(self, filepath):\n",
    "\t\t\tself.tree = etree.parse(filepath)\n",
    "\t\t\t\n",
    "\t\t@property\n",
    "\t\tdef parsed_data(self):\n",
    "\t\t\treturn self.tree\n",
    "        \n",
    "def connection_factory(filepath):\n",
    "\t\tif filepath.endwith('json'):\n",
    "\t\t\tconnector = JSONConnector\n",
    "\t\telif filepath.endwith('xml'):\n",
    "\t\t\tconnector = XMLConnector\n",
    "\t\telse:\n",
    "\t\t\traise ValueError('Cannot connect to {}'.format(filepaht))\n",
    "\t\treturn connector(filepath)"
   ]
  },
  {
   "cell_type": "code",
   "execution_count": 7,
   "metadata": {
    "collapsed": false
   },
   "outputs": [
    {
     "ename": "SyntaxError",
     "evalue": "invalid syntax (<ipython-input-7-2c47a8376110>, line 52)",
     "output_type": "error",
     "traceback": [
      "\u001b[0;36m  File \u001b[0;32m\"<ipython-input-7-2c47a8376110>\"\u001b[0;36m, line \u001b[0;32m52\u001b[0m\n\u001b[0;31m    print(f'Found: {len(json_data)} movies')\u001b[0m\n\u001b[0m                                          ^\u001b[0m\n\u001b[0;31mSyntaxError\u001b[0m\u001b[0;31m:\u001b[0m invalid syntax\n"
     ]
    }
   ],
   "source": [
    "import json\n",
    "import xml.etree.ElementTree as etree\n",
    "\n",
    "\n",
    "class JSONDataExtractor:\n",
    "\n",
    "    def __init__(self, filepath):\n",
    "        self.data = dict()\n",
    "        with open(filepath, mode='r', encoding='utf-8') as f:\n",
    "            self.data = json.load(f)\n",
    "\n",
    "    @property\n",
    "    def parsed_data(self):\n",
    "        return self.data\n",
    "\n",
    "\n",
    "class XMLDataExtractor:\n",
    "\n",
    "    def __init__(self, filepath):\n",
    "        self.tree =  etree.parse(filepath)\n",
    "\n",
    "    @property\n",
    "    def parsed_data(self):\n",
    "        return self.tree\n",
    "\n",
    "\n",
    "def dataextraction_factory(filepath):\n",
    "    if filepath.endswith('json'):\n",
    "        extractor = JSONDataExtractor\n",
    "    elif filepath.endswith('xml'):\n",
    "        extractor = XMLDataExtractor\n",
    "    else:\n",
    "        raise ValueError('Cannot extract data from {}'.format(filepath))\n",
    "    return extractor(filepath)\n",
    "\n",
    "\n",
    "def extract_data_from(filepath):\n",
    "    factory_obj = None\n",
    "    try:\n",
    "        factory_obj = dataextraction_factory(filepath)\n",
    "    except ValueError as e:\n",
    "        print(e)\n",
    "    return factory_obj\n",
    "\n",
    "\n",
    "def main():\n",
    "    sqlite_factory = extract_data_from('data/person.sq3')\n",
    "    print()\n",
    "\n",
    "    json_factory = extract_data_from('data/movies.json')\n",
    "    json_data = json_factory.parsed_data\n",
    "    print('Found: {} movies'.format(len(json_data)))\n",
    "    for movie in json_data:\n",
    "        print(\"Title: {}\".format(movie['title']))\n",
    "        year = movie['year']\n",
    "        if year:\n",
    "            print(\"Year: {}\".format(year))\n",
    "        director = movie['director']\n",
    "        if director:\n",
    "            print(\"Director: {}\")\n",
    "        genre = movie['genre']\n",
    "        if genre:\n",
    "            print(f\"Genre: {genre}\")\n",
    "        print()\n",
    "\n",
    "    xml_factory = extract_data_from('data/person.xml')\n",
    "    xml_data = xml_factory.parsed_data\n",
    "    liars = xml_data.findall(f\".//person[lastName='Liar']\")\n",
    "    print(f'found: {len(liars)} persons')\n",
    "    for liar in liars:\n",
    "        firstname = liar.find('firstName').text\n",
    "        print(f'first name: {firstname}')\n",
    "        lastname = liar.find('lastName').text\n",
    "        print(f'last name: {lastname}')\n",
    "        [print(f\"phone number ({p.attrib['type']}):\", p.text) \n",
    "              for p in liar.find('phoneNumbers')]\n",
    "        print()\n",
    "    print()\n"
   ]
  },
  {
   "cell_type": "code",
   "execution_count": null,
   "metadata": {
    "collapsed": true
   },
   "outputs": [],
   "source": []
  }
 ],
 "metadata": {
  "anaconda-cloud": {},
  "kernelspec": {
   "display_name": "Python [default]",
   "language": "python",
   "name": "python3"
  },
  "language_info": {
   "codemirror_mode": {
    "name": "ipython",
    "version": 3
   },
   "file_extension": ".py",
   "mimetype": "text/x-python",
   "name": "python",
   "nbconvert_exporter": "python",
   "pygments_lexer": "ipython3",
   "version": "3.5.2"
  }
 },
 "nbformat": 4,
 "nbformat_minor": 1
}
