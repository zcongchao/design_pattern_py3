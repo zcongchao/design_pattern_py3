{
 "cells": [
  {
   "cell_type": "markdown",
   "metadata": {},
   "source": [
    "### 享元模式"
   ]
  },
  {
   "cell_type": "markdown",
   "metadata": {},
   "source": [
    "由于对象创建的开销，面向对象的系统可能会面临性能问题。性能问题通常在资源受限的嵌\n",
    "入式系统中出现，比如智能手机和平板电脑。大型复杂系统中也可能会出现同样的问题，因为要\n",
    "在其中创建大量对象（也可能是用户），这些对象需要同时并存。 \n",
    "这个问题之所以会发生，是因为当我们创建一个新对象时，需要分配额外的内存。虽然虚拟\n",
    "内存理论上为我们提供了无限制的内存空间，但现实却并非如此。如果一个系统耗尽了所有的物\n",
    "理内存，就会开始将内存页替换到二级存储设备，通常是硬盘驱动器（Hard Disk Drive，HDD）。\n",
    "在多数情况下，由于内存和硬盘之间的性能差异，这是不能接受的。固态硬盘（Solid State Drive，\n",
    "SSD）的性能一般比硬盘更好，但并非人人都使用SSD，SSD并不会很快全面替代硬盘（请参考\n",
    "网页［t.cn/RqrjS0E］）。 \n",
    "除内存使用之外，计算性能也是一个考虑点。图形软件，包括计算机游戏，应该能够极快地\n",
    "渲染3D信息（例如，有成千上万棵树的森林或满是士兵的村庄）。如果一个3D地带的每个对象都\n",
    "是单独创建，未使用数据共享，那么性能将是无法接受的（请参考网页［t.cn/Rqrj9qa］）。 \n",
    "作为软件工程师，我们应该编写更好的软件来解决软件问题，而不是要求客户购买更多更好\n",
    "的硬件。享元设计模式通过为相似对象引入数据共享来最小化内存使用，提升性能（请参考网页\n",
    "［t.cn/RqrjNF3］） 。一个享元（Flyweight）就是一个包含状态独立的不可变（又称固有的）数据的\n",
    "共享对象。依赖状态的可变（又称非固有的）数据不应是享元的一部分，因为每个对象的这种信\n",
    "息都不同，无法共享。如果享元需要非固有的数据，应该由客户端代码显式地提供网页［t.cn/RqrjOX3］）。 \n",
    "用一个例子可能有助于解释实际应用场景中如何使用享元模式。假设我们正在设计一个性能\n",
    "关键的游戏，例如第一人称射击（First-Person Shooter，FPS）游戏。在FPS游戏中，玩家（士兵）\n",
    "共享一些状态，如外在表现和行为。例如，在《反恐精英》游戏中，同一团队（反恐精英或恐怖\n",
    "分子）的所有士兵看起来都是一样的（外在表现）。同一个游戏中，（两个团队的）所有士兵都有\n",
    "一些共同的动作，比如，跳起、低头等（行为）。这意味着我们可以创建一个享元来包含所有共\n",
    "同的数据。当然，士兵也有许多因人而异的可变数据，这些数据不是享元的一部分，比如，枪支、\n",
    "健康状况和地理位置等。 "
   ]
  },
  {
   "cell_type": "markdown",
   "metadata": {},
   "source": [
    "### 现实生活的例子 \n",
    "享元模式是一个用于优化的设计模式。因此，要找一个合适的现实生活的例子不太容易。我\n",
    "们可以把享元看作现实生活中的缓存区。例如，许多书店都有专用的书架来摆放最新和最流行的\n",
    "出版物。这就是一个缓存区，你可以先在这些专用书架上看看有没有正在找的书籍，如果没找到，\n",
    "则可以让图书管理员来帮你。 "
   ]
  },
  {
   "cell_type": "markdown",
   "metadata": {},
   "source": [
    "### 应用案例 \n",
    "享元旨在优化性能和内存使用。所有嵌入式系统（手机、平板电脑、游戏终端和微控制器等）\n",
    "和性能关键的应用（游戏、3D图形处理和实时系统等）都能从其获益。 \n",
    "若想要享元模式有效，需要满足GoF的《设计模式》一书罗列的以下几个条件。   \n",
    " 应用需要使用大量的对象。    \n",
    " 对象太多，存储/渲染它们的代价太大。一旦移除对象中的可变状态（因为在需要之时，应\n",
    "该由客户端代码显式地传递给享元），多组不同的对象可被相对更少的共享对象所替代。    \n",
    " 对象ID对于应用不重要。对象共享会造成ID比较的失败，所以不能依赖对象ID（那些在\n",
    "客户端代码看来不同的对象，最终具有相同的ID）。   "
   ]
  },
  {
   "cell_type": "markdown",
   "metadata": {},
   "source": [
    "在深入代码之前，我们稍稍解释一下memoization与享元模式之间的区别。memoization是一\n",
    "种优化技术，使用一个缓存来避免重复计算那些在更早的执行步骤中已经计算好的结果。\n",
    "memoization并不是只能应用于某种特定的编程方式，比如面向对象编程（Object-Oriented \n",
    "Programming，OOP） 。在Python中，memoization可以应用于方法和简单的函数。享元则是一种特\n",
    "定于面向对象编程优化的设计模式，关注的是共享对象数据。 "
   ]
  },
  {
   "cell_type": "markdown",
   "metadata": {},
   "source": [
    "### 实现 \n",
    "由于之前已提到树的例子，那么就来看看如何实现它。在这个例子中，我们将构造一小片水\n",
    "果树的森林，小到能确保在单个终端页面中阅读整个输出。然而，无论你构造的森林有多大，内\n",
    "存分配都保持相同。下面这个Enum类型变量描述三种不同种类的水果树。 "
   ]
  },
  {
   "cell_type": "code",
   "execution_count": null,
   "metadata": {
    "collapsed": true
   },
   "outputs": [],
   "source": [
    "在Python中，享元可以以多种方式实现，但我发现这个例子中展示的实现非常简洁。pool\n",
    "变量是一个对象池（换句话说，是我们的缓存） 。注意：pool是一个类属性（类的所有实例共享\n",
    "的一个变量，请参考网页［t.cn/zHwpgFe］） 。使用特殊方法__new__（这个方法在__init__之\n",
    "前被调用），我们把Tree类变换成一个元类，元类支持自引用。这意味着cls引用的是Tree类（请\n",
    "参考［Lott14，第99页］）。当客户端要创建Tree的一个实例时，会以tree_type参数传递树的种\n",
    "类。树的种类用于检查是否创建过相同种类的树。如果是，则返回之前创建的对象；否则，将这\n",
    "个新的树种添加到池中，并返回相应的新对象，如下所示"
   ]
  },
  {
   "cell_type": "code",
   "execution_count": 1,
   "metadata": {
    "collapsed": true
   },
   "outputs": [],
   "source": [
    "import random\n",
    "from enum import Enum\n",
    "\n",
    "TreeType = Enum('TreeType', 'apple_tree cherry_tree peach_tree')\n",
    "\n",
    "\n",
    "class Tree:\n",
    "    pool = dict()\n",
    "    #树的种类用于检查是否创建过相同种类的树\n",
    "    def __new__(cls, tree_type):\n",
    "        obj = cls.pool.get(tree_type, None)\n",
    "        if not obj:\n",
    "            obj = object.__new__(cls)\n",
    "            cls.pool[tree_type] = obj\n",
    "            obj.tree_type = tree_type\n",
    "        return obj\n",
    "    #方法render()用于在屏幕上渲染一棵树\n",
    "    def render(self, age, x, y):\n",
    "        print('render a tree of type {} and age {} at ({}, {})'.format(self.tree_type, age, x, y))\n",
    "\n",
    "#享元不知道的所有可变（外部的）信息都需要由客户端代码显式地传递\n",
    "def main():\n",
    "    rnd = random.Random()\n",
    "    age_min, age_max = 1, 30    # Year\n",
    "    min_point, max_point = 0, 100\n",
    "    tree_counter = 0\n",
    "\n",
    "    for _ in range(10):\n",
    "        t1 = Tree(TreeType.apple_tree)\n",
    "        t1.render(rnd.randint(age_min, age_max),\n",
    "                  rnd.randint(min_point, max_point),\n",
    "                  rnd.randint(min_point, max_point))\n",
    "        tree_counter += 1\n",
    "\n",
    "    for _ in range(3):\n",
    "        t2 = Tree(TreeType.cherry_tree)\n",
    "        t2.render(rnd.randint(age_min, age_max),\n",
    "                  rnd.randint(min_point, max_point),\n",
    "                  rnd.randint(min_point, max_point))\n",
    "        tree_counter += 1\n",
    "\n",
    "    for _ in range(5):\n",
    "        t3 = Tree(TreeType.peach_tree)\n",
    "        t3.render(rnd.randint(age_min, age_max),\n",
    "                  rnd.randint(min_point, max_point),\n",
    "                  rnd.randint(min_point, max_point))\n",
    "        tree_counter += 1\n",
    "\n",
    "    print('trees rendered: {}'.format(tree_counter))\n",
    "    print('trees actually created: {}'.format(len(Tree.pool)))\n",
    "\n",
    "    t4 = Tree(TreeType.cherry_tree)\n",
    "    t5 = Tree(TreeType.cherry_tree)\n",
    "    t6 = Tree(TreeType.apple_tree)\n",
    "    print('{} == {}? {}'.format(id(t4), id(t5), id(t4) == id(t5)))\n",
    "    print('{} == {}? {}'.format(id(t5), id(t6), id(t5) == id(t6)))"
   ]
  },
  {
   "cell_type": "code",
   "execution_count": 2,
   "metadata": {
    "collapsed": false
   },
   "outputs": [
    {
     "name": "stdout",
     "output_type": "stream",
     "text": [
      "render a tree of type TreeType.apple_tree and age 3 at (69, 59)\n",
      "render a tree of type TreeType.apple_tree and age 20 at (21, 86)\n",
      "render a tree of type TreeType.apple_tree and age 26 at (84, 41)\n",
      "render a tree of type TreeType.apple_tree and age 15 at (59, 27)\n",
      "render a tree of type TreeType.apple_tree and age 1 at (5, 19)\n",
      "render a tree of type TreeType.apple_tree and age 25 at (52, 9)\n",
      "render a tree of type TreeType.apple_tree and age 9 at (17, 5)\n",
      "render a tree of type TreeType.apple_tree and age 3 at (4, 92)\n",
      "render a tree of type TreeType.apple_tree and age 30 at (62, 33)\n",
      "render a tree of type TreeType.apple_tree and age 12 at (96, 95)\n",
      "render a tree of type TreeType.cherry_tree and age 8 at (85, 87)\n",
      "render a tree of type TreeType.cherry_tree and age 17 at (12, 40)\n",
      "render a tree of type TreeType.cherry_tree and age 27 at (42, 2)\n",
      "render a tree of type TreeType.peach_tree and age 5 at (92, 62)\n",
      "render a tree of type TreeType.peach_tree and age 30 at (64, 31)\n",
      "render a tree of type TreeType.peach_tree and age 18 at (13, 5)\n",
      "render a tree of type TreeType.peach_tree and age 29 at (88, 0)\n",
      "render a tree of type TreeType.peach_tree and age 9 at (71, 58)\n",
      "trees rendered: 18\n",
      "trees actually created: 3\n",
      "84443376 == 84443376? True\n",
      "84443376 == 84443488? False\n"
     ]
    }
   ],
   "source": [
    "main()"
   ]
  },
  {
   "cell_type": "code",
   "execution_count": null,
   "metadata": {
    "collapsed": true
   },
   "outputs": [],
   "source": []
  }
 ],
 "metadata": {
  "kernelspec": {
   "display_name": "Python [default]",
   "language": "python",
   "name": "python3"
  },
  "language_info": {
   "codemirror_mode": {
    "name": "ipython",
    "version": 3
   },
   "file_extension": ".py",
   "mimetype": "text/x-python",
   "name": "python",
   "nbconvert_exporter": "python",
   "pygments_lexer": "ipython3",
   "version": "3.5.2"
  }
 },
 "nbformat": 4,
 "nbformat_minor": 1
}
