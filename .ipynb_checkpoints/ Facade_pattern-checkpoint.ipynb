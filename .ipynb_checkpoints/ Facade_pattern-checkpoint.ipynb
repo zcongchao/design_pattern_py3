{
 "cells": [
  {
   "cell_type": "markdown",
   "metadata": {},
   "source": [
    "### 外观模式"
   ]
  },
  {
   "cell_type": "markdown",
   "metadata": {},
   "source": [
    "系统会随着演化变得非常复杂，最终形成大量的（并且有时是令人迷惑的）类和交互，这种\n",
    "情况并不少见。许多情况下，我们并不想把这种复杂性暴露给客户端。外观设计模式有助于隐藏\n",
    "系统的内部复杂性，并通过一个简化的接口向客户端暴露必要的部分。本质上，外观（Facade）是在已有复杂系统之上实现的一个抽象层。 "
   ]
  },
  {
   "cell_type": "markdown",
   "metadata": {},
   "source": [
    "### 现实生活的例子 \n",
    "在现实中，外观模式相当常见。当你致电一个银行或公司，通常是先被连线到客服部门，客\n",
    "服职员在你和业务部门（结算、技术支持、一般援助等）及帮你解决具体问题的职员之间充当一\n",
    "个外观的角色"
   ]
  },
  {
   "cell_type": "markdown",
   "metadata": {},
   "source": [
    "### 实现    \n",
    "假设我们想使用多服务进程方式实现一个操作系统，类似于MINIX 3（请参考网页\n",
    "［t.cn/h5mI2X］） 或GNU Hurd（请参考网页［t.cn/RqrjZA1］）那样。多服务进程的操作系统有一\n",
    "个极小的内核，称为微内核（microkernel） ，它在特权模式下运行。系统的所有其他服务都遵从\n",
    "一种服务架构（驱动程序服务器、进程服务器、文件服务器等）。每个服务进程属于一个不同的\n",
    "内存地址空间，以用户模式在微内核之上运行。这种方式的优势是操作系统更能容错、更加可靠、\n",
    "更加安全。例如，由于所有驱动程序都以用户模式在一个驱动服务进程之上运行，所以某个驱动\n",
    "程序中的一个bug并不能让整个系统崩溃，也无法影响到其他服务进程。其劣势则是性能开销和\n",
    "系统编程的复杂性，因为服务进程和微内核之间，还有独立的服务进程之间，使用消息传递方式\n",
    "进行通信。消息传递比宏内核（如Linux）所使用的共享内存模型更加复杂（请参考网页\n",
    "［t.cn/RqrjAK8］）。 \n",
    "我们从Server接口①开始实现，使用一个Enum类型变量来描述一个服务进程的不同状态，\n",
    "使用abc模块来禁止对Server接口直接进行初始化，并强制子类实现关键的boot()和kill()\n",
    "方法。这里假设每个服务进程的启动、关闭及重启都相应地需要不同的动作。如果你以前没用过\n",
    "abc模块，请记住以下几个重要事项。 \n",
    " 我们需要使用metaclass关键字来继承ABCMeta。 \n",
    " 使用@abstractmethod修饰器来声明Server的所有子类都应（强制性地）实现哪些\n",
    "方法。 \n",
    "尝试移除一个子类的boot()或kill()方法，看看会发生什么。移除@abstractmethod修\n",
    "饰器之后再试试。一切如你所料吗？ "
   ]
  },
  {
   "cell_type": "code",
   "execution_count": 1,
   "metadata": {
    "collapsed": true
   },
   "outputs": [],
   "source": [
    "from enum import Enum\n",
    "from abc import ABCMeta, abstractmethod\n",
    "\n",
    "State = Enum('State', 'new running sleeping restart zombie')\n",
    "\n",
    "\n",
    "class User:\n",
    "    pass\n",
    "\n",
    "\n",
    "class Process:\n",
    "    pass\n",
    "\n",
    "\n",
    "class File:\n",
    "    pass\n",
    "\n",
    "\n",
    "class Server(metaclass=ABCMeta):\n",
    "\n",
    "    @abstractmethod\n",
    "    def __init__(self):\n",
    "        pass\n",
    "\n",
    "    def __str__(self):\n",
    "        return self.name\n",
    "\n",
    "    @abstractmethod\n",
    "    def boot(self):\n",
    "        pass\n",
    "\n",
    "    @abstractmethod\n",
    "    def kill(self, restart=True):\n",
    "        pass\n",
    "\n",
    "\n",
    "class FileServer(Server):\n",
    "\n",
    "    def __init__(self):\n",
    "        # 初始化文件服务要求的操作\n",
    "        self.name = 'FileServer'\n",
    "        self.state = State.new\n",
    "\n",
    "    def boot(self):\n",
    "        print('booting the {}'.format(self))\n",
    "        # 启动进程\n",
    "        self.state = State.running\n",
    "\n",
    "    def kill(self, restart=True):\n",
    "        print('Killing {}'.format(self))\n",
    "        # 杀死进程\n",
    "        self.state = State.restart if restart else State.zombie\n",
    "\n",
    "    def create_file(self, user, name, permissions):\n",
    "        # 检查访问权限\n",
    "\n",
    "        print(\"trying to create the file '{}' for user '{}' with permissions {}\".format(name, user, permissions))\n",
    "\n",
    "\n",
    "class ProcessServer(Server):\n",
    "\n",
    "    def __init__(self):\n",
    "        # 初始化服务进程要求的操作\n",
    "        self.name = 'ProcessServer'\n",
    "        self.state = State.new\n",
    "\n",
    "    def boot(self):\n",
    "        print('booting the {}'.format(self))\n",
    "        # 启动进程\n",
    "        self.state = State.running\n",
    "\n",
    "    def kill(self, restart=True):\n",
    "        print('Killing {}'.format(self))\n",
    "        # 杀死进程\n",
    "        self.state = State.restart if restart else State.zombie\n",
    "\n",
    "    def create_process(self, user, name):\n",
    "        # 检查用户权限\n",
    "\n",
    "        print(\"trying to create the process '{}' for user '{}'\".format(name, user))\n",
    "\n",
    "\n",
    "class WindowServer:\n",
    "    pass\n",
    "\n",
    "\n",
    "class NetworkServer:\n",
    "    pass\n",
    "\n",
    "\n",
    "class OperatingSystem:\n",
    "\n",
    "    # 外观\n",
    "    def __init__(self):\n",
    "        self.fs = FileServer()\n",
    "        self.ps = ProcessServer()\n",
    "\n",
    "    def start(self):\n",
    "        [i.boot() for i in (self.fs, self.ps)]\n",
    "\n",
    "    def create_file(self, user, name, permissions):\n",
    "        return self.fs.create_file(user, name, permissions)\n",
    "\n",
    "    def create_process(self, user, name):\n",
    "        return self.ps.create_process(user, name)\n",
    "\n",
    "\n",
    "def main():\n",
    "    os = OperatingSystem()\n",
    "    os.start()\n",
    "    os.create_file('foo', 'hello', '-rw-r-r')\n",
    "    os.create_process('bar', 'ls /tmp')"
   ]
  },
  {
   "cell_type": "code",
   "execution_count": 2,
   "metadata": {
    "collapsed": false
   },
   "outputs": [
    {
     "name": "stdout",
     "output_type": "stream",
     "text": [
      "booting the FileServer\n",
      "booting the ProcessServer\n",
      "trying to create the file 'hello' for user 'foo' with permissions -rw-r-r\n",
      "trying to create the process 'ls /tmp' for user 'bar'\n"
     ]
    }
   ],
   "source": [
    "main()"
   ]
  },
  {
   "cell_type": "markdown",
   "metadata": {},
   "source": [
    "### 软件的例子   \n",
    "django-oscar-datacash模块是Django的一个第三方组件，用于集成DataCash支付网关。该组件\n",
    "有一个Gateway类，提供对多种DataCash API的细粒度访问。在那之上，它也包含一个Facade\n",
    "类，提供粗粒度API （提供给那些不需要处理细节的人），并针对审计目的提供保存事务的能力 （请\n",
    "参考网页［t.cn/RqrlgCG］）。 "
   ]
  },
  {
   "cell_type": "code",
   "execution_count": null,
   "metadata": {
    "collapsed": true
   },
   "outputs": [],
   "source": []
  }
 ],
 "metadata": {
  "kernelspec": {
   "display_name": "Python [default]",
   "language": "python",
   "name": "python3"
  },
  "language_info": {
   "codemirror_mode": {
    "name": "ipython",
    "version": 3
   },
   "file_extension": ".py",
   "mimetype": "text/x-python",
   "name": "python",
   "nbconvert_exporter": "python",
   "pygments_lexer": "ipython3",
   "version": "3.5.2"
  }
 },
 "nbformat": 4,
 "nbformat_minor": 1
}
