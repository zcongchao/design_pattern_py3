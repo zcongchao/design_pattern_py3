{
 "cells": [
  {
   "cell_type": "markdown",
   "metadata": {},
   "source": [
    "### 责任链模式 "
   ]
  },
  {
   "cell_type": "markdown",
   "metadata": {},
   "source": [
    "开发一个应用时，多数时候我们都能预先知道哪个方法能处理某个特定请求。然而，情况并\n",
    "非总是如此。例如，想想任意一种广播计算机网络，例如最早的以太网实现（请参考网页\n",
    "［t.cn/RqrTp0Y］）。在广播计算机网络中，会将所有请求发送给所有节点（简单起见，不考虑广播\n",
    "域） ，但仅对所发送请求感兴趣的节点会处理请求。加入广播网络的所有计算机使用一种常见的\n",
    "媒介相互连接。 "
   ]
  },
  {
   "cell_type": "markdown",
   "metadata": {},
   "source": [
    "如果一个节点对某个请求不感兴趣或者不知道如何处理这个请求，可以执行以下两个操作。    \n",
    " 忽略这个请求，什么都不做    \n",
    " 将请求转发给下一个节点      \n",
    "节点对一个请求的反应方式是实现的细节。然而，我们可以使用广播计算机网络的类比来\n",
    "理解责任链模式是什么。责任链（Chain of Responsibility）模式用于让多个对象来处理单个请求\n",
    "时，或者用于预先不知道应该由哪个对象（来自某个对象链）来处理某个特定请求时。其原则\n",
    "如下所示。    \n",
    "(1) 存在一个对象链（链表、树或任何其他便捷的数据结构）。   \n",
    "(2) 我们一开始将请求发送给链中的第一个对象。   \n",
    "(3) 对象决定其是否要处理该请求。   \n",
    "(4) 对象将请求转发给下一个对象。   \n",
    "(5) 重复该过程，直到到达链尾。   "
   ]
  },
  {
   "cell_type": "markdown",
   "metadata": {},
   "source": [
    "应用级别，不用讨论光缆和网络节点，而是可以专注于对象以及请求的流程.\n",
    "注意，客户端代码仅知道第一个处理元素，而非拥有对所有处理元素的引用；并且每个处理\n",
    "元素仅知道其直接的下一个邻居（称为后继），而不知道所有其他处理元素。这通常是一种单向\n",
    "关系，用编程术语来说是一个单向链表，与之相反的是双向链表。单向链表不允许双向地遍历元\n",
    "素，双向链表则是允许的。这种链式组织方式大有用处：可以解耦发送方（客户端）和接收方（处\n",
    "理元素）。 "
   ]
  },
  {
   "cell_type": "markdown",
   "metadata": {},
   "source": [
    "现实生活的例子 \n",
    "ATM机以及及一般而言用于接收/返回钞票或硬币的任意类型机器（比如，零食自动贩卖机）\n",
    "都使用了责任链模式。机器上总会有一个放置各种钞票的槽口,钞票放入之后，会被传递到恰当的容器。钞票返回时，则是从恰当的容器中获取（请参考网\n",
    "页［t.cn/RqrTYuB］和网页［t.cn/RqrTnts］）。我们可以把这个槽口视为共享通信媒介，不同的容\n",
    "器则是处理元素。结果包含来自一个或多个容器的现金。"
   ]
  },
  {
   "cell_type": "code",
   "execution_count": null,
   "metadata": {
    "collapsed": true
   },
   "outputs": [],
   "source": []
  },
  {
   "cell_type": "markdown",
   "metadata": {},
   "source": [
    "### 应用案例 \n",
    "通过使用责任链模式，我们能让许多不同对象来处理一个特定请求。在我们预先不知道应该\n",
    "由哪个对象来处理某个请求时，这是有用的。其中一个例子是采购系统。在采购系统中，有许多\n",
    "核准权限。某个核准权限可能可以核准在一定额度之内的订单，假设为100美元。如果订单超过了\n",
    "100美元，则会将订单发送给链中的下一个核准权限，比如能够核准在200美元以下的订单，等等。  \n",
    "另一个责任链可以派上用场的场景是，在我们知道可能会有多个对象都需要对同一个请求进\n",
    "行处理之时。这在基于事件的编程中是常有的事情。单个事件，比如一次鼠标左击，可被多个事\n",
    "件监听者捕获。 \n",
    "不过应该注意，如果所有请求都能被单个处理程序处理，责任链就没那么有用了，除非确实\n",
    "不知道会是哪个程序处理请求。这一模式的价值在于解耦。客户端与所有处理程序（一个处理程\n",
    "序与所有其他处理程序之间也是如此）之间不再是多对多关系，客户端仅需要知道如何与链的起\n",
    "始节点（标头）进行通信。 "
   ]
  },
  {
   "cell_type": "markdown",
   "metadata": {},
   "source": [
    "### 实现 \n",
    "使用Python实现责任链模式有许多种方式，但是我最喜欢的实现是Vespe Savikko所提出的\n",
    "（请参考网页［t.cn/RqruSj1］）。Vespe的实现以地道的Python风格使用动态分发来处理请求（请参\n",
    "考网页［t.cn/RqruWFp］）。 \n",
    "我们以Ve spe的实现为参考实现一个简单的事件系统.Event类描述一个事件。为了让它简单一点，在我们的案例中一个事件只有一个name属性"
   ]
  },
  {
   "cell_type": "code",
   "execution_count": null,
   "metadata": {
    "collapsed": true
   },
   "outputs": [],
   "source": [
    "class Event:\n",
    "\n",
    "    def __init__(self, name):\n",
    "        self.name = name\n",
    "\n",
    "    def __str__(self):\n",
    "        return self.name\n"
   ]
  },
  {
   "cell_type": "markdown",
   "metadata": {},
   "source": [
    "Widget类是应用的核心类。 UML图中展示的parent聚合关系表明每个控件都有一个到父对\n",
    "象的引用。按照约定，我们假定父对象是一个Widget实例。然而，注意，根据继承的规则，任\n",
    "何Widget子类的实例（例如，MsgText的实例）也是Widget实例。parent的默认值为None。 "
   ]
  },
  {
   "cell_type": "code",
   "execution_count": null,
   "metadata": {
    "collapsed": true
   },
   "outputs": [],
   "source": [
    "class Widget:\n",
    "\n",
    "    def __init__(self, parent=None):\n",
    "        self.parent = parent\n",
    "\n",
    "    def handle(self, event):\n",
    "        handler = 'handle_{}'.format(event)\n",
    "        if hasattr(self, handler):\n",
    "            method = getattr(self, handler)\n",
    "            method(event)\n",
    "        elif self.parent:\n",
    "            self.parent.handle(event)\n",
    "        elif hasattr(self, 'handle_default'):\n",
    "            self.handle_default(event)"
   ]
  },
  {
   "cell_type": "markdown",
   "metadata": {},
   "source": [
    "handle()方法使用动态分发，通过hasattr()和getattr()决定一个特定请求（event）\n",
    "应该由谁来处理。如果被请求处理事件的控件并不支持该事件，则有两种回退机制。如果控件有\n",
    "parent，则执行parent的handle()方法。如果控件没有parent，但有handle_default()方\n",
    "法，则执行handle_default()。    \n",
    "此时，你可能已明白为什么UML类图中Widget与Event类仅是关联关系而已（不是聚合或\n",
    "组合关系）。关联关系用于表明Widget类知道Event类，但对其没有任何严格的引用，因为事件\n",
    "仅需要作为参数传递给handle()。 "
   ]
  },
  {
   "cell_type": "markdown",
   "metadata": {},
   "source": [
    "MainWindow、MsgText和SendDialog是具有不同行为的控件。我们并不期望这三个控件\n",
    "都能处理相同的事件，即使它们能处理相同事件，表现出来也可能是不同的。MainWindow仅能\n",
    "处理close和default事件。 "
   ]
  },
  {
   "cell_type": "code",
   "execution_count": 1,
   "metadata": {
    "collapsed": true
   },
   "outputs": [],
   "source": [
    "class Event:\n",
    "\n",
    "    def __init__(self, name):\n",
    "        self.name = name\n",
    "\n",
    "    def __str__(self):\n",
    "        return self.name\n",
    "\n",
    "\n",
    "class Widget:\n",
    "\n",
    "    def __init__(self, parent=None):\n",
    "        self.parent = parent\n",
    "\n",
    "    def handle(self, event):\n",
    "        handler = 'handle_{}'.format(event)\n",
    "        if hasattr(self, handler):\n",
    "            method = getattr(self, handler)\n",
    "            method(event)\n",
    "        elif self.parent:\n",
    "            self.parent.handle(event)\n",
    "        elif hasattr(self, 'handle_default'):\n",
    "            self.handle_default(event)\n",
    "\n",
    "\n",
    "class MainWindow(Widget):\n",
    "\n",
    "    def handle_close(self, event):\n",
    "        print('MainWindow: {}'.format(event))\n",
    "\n",
    "    def handle_default(self, event):\n",
    "        print('MainWindow Default: {}'.format(event))\n",
    "\n",
    "\n",
    "class SendDialog(Widget):\n",
    "\n",
    "    def handle_paint(self, event):\n",
    "        print('SendDialog: {}'.format(event))\n",
    "\n",
    "\n",
    "class MsgText(Widget):\n",
    "\n",
    "    def handle_down(self, event):\n",
    "        print('MsgText: {}'.format(event))\n",
    "\n",
    "\n",
    "def main():\n",
    "    mw = MainWindow()\n",
    "    sd = SendDialog(mw)\n",
    "    msg = MsgText(sd)\n",
    "\n",
    "    for e in ('down', 'paint', 'unhandled', 'close'):\n",
    "        evt = Event(e)\n",
    "        print('\\nSending event -{}- to MainWindow'.format(evt))\n",
    "        mw.handle(evt)\n",
    "        print('Sending event -{}- to SendDialog'.format(evt))\n",
    "        sd.handle(evt)\n",
    "        print('Sending event -{}- to MsgText'.format(evt))\n",
    "        msg.handle(evt)"
   ]
  },
  {
   "cell_type": "markdown",
   "metadata": {},
   "source": [
    "main()函数展示如何创建一些控件和事件，以及控件如何对那些事件作出反应。所有事件\n",
    "都会被发送给所有控件。注意其中每个控件的父子关系。sd对象（SendDialog的一个实例）的\n",
    "父对象是mw（MainWindow的一个实例）。然而，并不是所有对象都需要一个MainWindow实例的\n",
    "父对象。例如，msg对象（MsgText的一个实例）是以sd作为父对象。 "
   ]
  },
  {
   "cell_type": "code",
   "execution_count": 2,
   "metadata": {
    "collapsed": false
   },
   "outputs": [
    {
     "name": "stdout",
     "output_type": "stream",
     "text": [
      "\n",
      "Sending event -down- to MainWindow\n",
      "MainWindow Default: down\n",
      "Sending event -down- to SendDialog\n",
      "MainWindow Default: down\n",
      "Sending event -down- to MsgText\n",
      "MsgText: down\n",
      "\n",
      "Sending event -paint- to MainWindow\n",
      "MainWindow Default: paint\n",
      "Sending event -paint- to SendDialog\n",
      "SendDialog: paint\n",
      "Sending event -paint- to MsgText\n",
      "SendDialog: paint\n",
      "\n",
      "Sending event -unhandled- to MainWindow\n",
      "MainWindow Default: unhandled\n",
      "Sending event -unhandled- to SendDialog\n",
      "MainWindow Default: unhandled\n",
      "Sending event -unhandled- to MsgText\n",
      "MainWindow Default: unhandled\n",
      "\n",
      "Sending event -close- to MainWindow\n",
      "MainWindow: close\n",
      "Sending event -close- to SendDialog\n",
      "MainWindow: close\n",
      "Sending event -close- to MsgText\n",
      "MainWindow: close\n"
     ]
    }
   ],
   "source": [
    "main()"
   ]
  },
  {
   "cell_type": "code",
   "execution_count": null,
   "metadata": {
    "collapsed": true
   },
   "outputs": [],
   "source": []
  }
 ],
 "metadata": {
  "anaconda-cloud": {},
  "kernelspec": {
   "display_name": "Python [default]",
   "language": "python",
   "name": "python3"
  },
  "language_info": {
   "codemirror_mode": {
    "name": "ipython",
    "version": 3
   },
   "file_extension": ".py",
   "mimetype": "text/x-python",
   "name": "python",
   "nbconvert_exporter": "python",
   "pygments_lexer": "ipython3",
   "version": "3.5.2"
  }
 },
 "nbformat": 4,
 "nbformat_minor": 1
}
