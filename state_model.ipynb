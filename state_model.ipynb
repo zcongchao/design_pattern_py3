{
 "cells": [
  {
   "cell_type": "markdown",
   "metadata": {},
   "source": [
    "### 状态模式\n",
    " \n",
    "面向对象编程着力于在对象交互时改变它们的状态。在很多问题中，有限状态机（通常名为\n",
    "状态机）是一个非常方便的状态转换建模（并在必要时以数学方式形式化）工具。首先，什么是\n",
    "状态机？状态机是一个抽象机器，有两个关键部分，状态和转换。状态是指系统的当前（激活）\n",
    "状况。例如，假设我们有一个收音机，其两个可能的状态是在调频波段（FM）或调幅波段（AM）\n",
    "上调节。另一个可能的状态是从一个FM/AM无线电台切换到另一个。转换是指从一个状态切换\n",
    "到另一个状态，因某个事件或条件的触发而开始。通常，在一次转换发生之前或之后会执行一个\n",
    "或一组动作。假设我们的收音机被调到107 FM无线电台，一次状态转换的例子是收听人按下按\n",
    "钮切换到107.5 FM。 \n",
    "状态机的一个不错的特性是可以用图来表现（称为状态图），其中每个状态都是一个节点，\n",
    "每个转换都是两个节点之间的边。下图展示了一个典型操作系统进程的状态图（不是针对特定的\n",
    "系统），经Wikipedia允许使用（请参考网页［t.cn/Rqr1CDd］） 。进程一开始由用户创建好，就进\n",
    "入“已创建/新建”状态。这个状态只能切换到“等待”状态，这个状态转换发生在调度器将进\n",
    "程加载进内存并添加到“等待/预备执行”的进程队列之时。一个“等待”进程有两个可能的状态转换：可被选择而执行（切换到“运行”状态），或被更高优先级的进程所替代（切换到“换\n",
    "出并等待”状态）。 \n",
    "进程的其他典型状态还包括“终止”（已完成或已终止） 、 “阻塞”（例如，等待一个I/O操作\n",
    "完成）等。需要注意，一个状态机在一个特定时间点只能有一个激活状态。例如，一个进程不可\n",
    "能同时处于“已创建”状态和“运行”状态。 \n",
    "\n",
    "状态机可用于解决多种不同的问题，包括非计算机的问题。非计算机的例子包括自动售货机、\n",
    "电梯、交通灯、暗码锁、停车计时器、自动加油泵及自然语言文法描述。计算机方面的例子包括\n",
    "游戏编程和计算机编程的其他领域、硬件设计、协议设计，以及编程语言解析（请参考网页\n",
    "［t.cn/RUFNdYt］和网页［t.cn/zY5jPeH］）。 \n",
    "好了，听起来很美好。但是状态机如何关联到状态设计模式（State design pattern）呢？其实\n",
    "状态模式就是应用到一个特定软件工程问题的状态机（请参考［GOF95，第342页］和［Eckel08，\n",
    "第151页］）。 "
   ]
  },
  {
   "cell_type": "markdown",
   "metadata": {},
   "source": [
    "### 现实生活的例子 \n",
    "零食自动售货机，它也是日常生活中状态模式的\n",
    "一个例子。自动售货机有不同的状态，并根据我们放入的钱币数量作出不同反应。根据我们的选\n",
    "择和放入的钱币，机器会执行以下操作。   \n",
    " 拒绝我们的选择，因为请求的货物已售罄。   \n",
    " 拒绝我们的选择，因为放入的钱币不足。     \n",
    " 递送货物，且不找零，因为放入的钱币恰好足够。   \n",
    " 递送货物，并找零。   "
   ]
  },
  {
   "cell_type": "markdown",
   "metadata": {},
   "source": [
    "### 软件的例子 \n",
    "使用状态模式本质上相当于实现一个状态机来解决特定领域的一个软件问题。django-fsm程\n",
    "序包是一个第三方程序包，用于Django框架中简化状态机的实现和使用（请参考网页\n",
    "［t.cn/Rqr1Tgb］）。        \n",
    "Python提供不止一个第三方包/模块来使用和实现状态机（请参考网页［t.cn/Rqr1Qdn］） 。我\n",
    "们将在14.4节中看到如何使用其中的一个。   \n",
    "另一个值得一提的项目是状态机编译器（State Machine Compiler，SMC）。使用SMC，你可\n",
    "以使用一种简单的领域特定语言在文本文件中描述你的状态机，SMC会自动生成状态机的代码。\n",
    "该项目声称这种DSL非常简单，写起来就像一对一地翻译一个状态图。我没试过，但听起来非常\n",
    "有意思。SMC可以生成多种编程语言的代码，包括Python（请参考网页［t.cn/RwDrn4v］）。"
   ]
  },
  {
   "cell_type": "markdown",
   "metadata": {},
   "source": [
    "### 实现 \n",
    "下面编写必需的Python代码，演示一下如何基于本章之前提到的状态图创建一个状态机。我\n",
    "们的状态机应该覆盖一个进程的不同状态以及它们之间的转换。 \n",
    "状态设计模式通常使用一个父State类和许多派生的ConcreteState类来实现，父类包含\n",
    "所有状态共同的功能，每个派生类则仅包含特定状态要求的功能。可在网页［t.cn/h47Rs9］上找\n",
    "到一个样例实现。然而在我看来，这些是实现细节。状态模式关注的是实现一个状态机，状态机\n",
    "的核心部分是状态和状态之间的转换。每个部分具体如何实现并不重要。"
   ]
  },
  {
   "cell_type": "markdown",
   "metadata": {},
   "source": [
    "为避免重复造轮子，可以利用已有的Python模块。它们不仅能帮助我们创建状态机，而且还\n",
    "是地道的Python方式。我发现state_machine这个模块非常有用（请参考网页［t.cn/RqrBvQG］）。\n",
    "在进一步学习之前，如果你的系统上尚未安装state_machine，请使用下面的命令进行安装。 \n",
    ">>> pip3 install state_machine      \n",
    "state_machine相当简单，不需要特别的介绍。我们将通过示例代码覆盖该模块的大部分\n",
    "内容。    \n",
    "首先从Process类开始。每个创建好的进程都有自己的状态机。使用state_machine模块\n",
    "创建状态机的第一个步骤是使用@acts_as_state_machine修饰器  "
   ]
  },
  {
   "cell_type": "markdown",
   "metadata": {},
   "source": [
    "下一步，定义状态机的状态。这是我们在状态图中看到的节点的映射。唯一的区别是应指定\n",
    "状态机的初始状态。这可通过设置inital=True来指定。 "
   ]
  },
  {
   "cell_type": "code",
   "execution_count": null,
   "metadata": {
    "collapsed": true
   },
   "outputs": [],
   "source": [
    "@acts_as_state_machine\n",
    "class Process:\n",
    "    created = State(initial=True)\n",
    "    waiting = State()\n",
    "    running = State()\n",
    "    terminated = State()\n",
    "    blocked = State()\n",
    "    swapped_out_waiting = State()\n",
    "    swapped_out_blocked = State()\n",
    "\n",
    "    wait = Event(from_states=(created, running, blocked,\n",
    "                              swapped_out_waiting), to_state=waiting)\n",
    "    run = Event(from_states=waiting, to_state=running)\n",
    "    terminate = Event(from_states=running, to_state=terminated)\n",
    "    block = Event(from_states=(running, swapped_out_blocked),\n",
    "                  to_state=blocked)\n",
    "    swap_wait = Event(from_states=waiting, to_state=swapped_out_waiting)\n",
    "    swap_block = Event(from_states=blocked, to_state=swapped_out_blocked)\n",
    "\n",
    "    def __init__(self, name):\n",
    "        self.name = name\n",
    "\n",
    "    @after('wait')\n",
    "    def wait_info(self):\n",
    "        print('{} entered waiting mode'.format(self.name))\n",
    "\n",
    "    @after('run')\n",
    "    def run_info(self):\n",
    "        print('{} is running'.format(self.name))\n",
    "\n",
    "    @before('terminate')\n",
    "    def terminate_info(self):\n",
    "        print('{} terminated'.format(self.name))\n",
    "\n",
    "    @after('block')\n",
    "    def block_info(self):\n",
    "        print('{} is blocked'.format(self.name))\n",
    "\n",
    "    @after('swap_wait')\n",
    "    def swap_wait_info(self):\n",
    "        print('{} is swapped out and waiting'.format(self.name))\n",
    "\n",
    "    @after('swap_block')\n",
    "    def swap_block_info(self):\n",
    "        print('{} is swapped out and blocked'.format(self.name))\n"
   ]
  },
  {
   "cell_type": "markdown",
   "metadata": {},
   "source": [
    "接着定义状态转换。在state_machine模块中，一个状态转换就是一个Event。我们使用\n",
    "参数from_states和to_state来定义一个可能的转换。 from_states可以是单个状态或一组状态（元组）。 "
   ]
  },
  {
   "cell_type": "markdown",
   "metadata": {},
   "source": [
    "在发生状态转换时，如果什么影响都没有，那转换就没什么用了。state_machine模块提\n",
    "供@before和@after修饰器，用于在状态转换之前或之后执行动作。为了达到示例的目的，这\n",
    "里的动作限于输出进程状态转换的信息。 "
   ]
  },
  {
   "cell_type": "code",
   "execution_count": 1,
   "metadata": {
    "collapsed": true
   },
   "outputs": [],
   "source": [
    "from state_machine import State, Event, acts_as_state_machine, after, before, InvalidStateTransition\n",
    "\n",
    "\n",
    "@acts_as_state_machine\n",
    "class Process:\n",
    "    created = State(initial=True)\n",
    "    waiting = State()\n",
    "    running = State()\n",
    "    terminated = State()\n",
    "    blocked = State()\n",
    "    swapped_out_waiting = State()\n",
    "    swapped_out_blocked = State()\n",
    "\n",
    "    wait = Event(from_states=(created, running, blocked,\n",
    "                              swapped_out_waiting), to_state=waiting)\n",
    "    run = Event(from_states=waiting, to_state=running)\n",
    "    terminate = Event(from_states=running, to_state=terminated)\n",
    "    block = Event(from_states=(running, swapped_out_blocked),\n",
    "                  to_state=blocked)\n",
    "    swap_wait = Event(from_states=waiting, to_state=swapped_out_waiting)\n",
    "    swap_block = Event(from_states=blocked, to_state=swapped_out_blocked)\n",
    "\n",
    "    def __init__(self, name):\n",
    "        self.name = name\n",
    "\n",
    "    @after('wait')\n",
    "    def wait_info(self):\n",
    "        print('{} entered waiting mode'.format(self.name))\n",
    "\n",
    "    @after('run')\n",
    "    def run_info(self):\n",
    "        print('{} is running'.format(self.name))\n",
    "\n",
    "    @before('terminate')\n",
    "    def terminate_info(self):\n",
    "        print('{} terminated'.format(self.name))\n",
    "\n",
    "    @after('block')\n",
    "    def block_info(self):\n",
    "        print('{} is blocked'.format(self.name))\n",
    "\n",
    "    @after('swap_wait')\n",
    "    def swap_wait_info(self):\n",
    "        print('{} is swapped out and waiting'.format(self.name))\n",
    "\n",
    "    @after('swap_block')\n",
    "    def swap_block_info(self):\n",
    "        print('{} is swapped out and blocked'.format(self.name))\n",
    "\n",
    "\n",
    "def transition(process, event, event_name):\n",
    "    try:\n",
    "        event()\n",
    "    except InvalidStateTransition as err:\n",
    "        print('Error: transition of {} from {} to {} failed'.format(process.name,\n",
    "                                                                    process.current_state, event_name))\n",
    "\n",
    "\n",
    "def state_info(process):\n",
    "    print('state of {}: {}'.format(process.name, process.current_state))\n",
    "\n",
    "\n",
    "def main():\n",
    "    RUNNING = 'running'\n",
    "    WAITING = 'waiting'\n",
    "    BLOCKED = 'blocked'\n",
    "    TERMINATED = 'terminated'\n",
    "\n",
    "    p1, p2 = Process('process1'), Process('process2')\n",
    "    [state_info(p) for p in (p1, p2)]\n",
    "\n",
    "    print()\n",
    "    transition(p1, p1.wait, WAITING)\n",
    "    transition(p2, p2.terminate, TERMINATED)\n",
    "    [state_info(p) for p in (p1, p2)]\n",
    "\n",
    "    print()\n",
    "    transition(p1, p1.run, RUNNING)\n",
    "    transition(p2, p2.wait, WAITING)\n",
    "    [state_info(p) for p in (p1, p2)]\n",
    "\n",
    "    print()\n",
    "    transition(p2, p2.run, RUNNING)\n",
    "    [state_info(p) for p in (p1, p2)]\n",
    "\n",
    "    print()\n",
    "    [transition(p, p.block, BLOCKED) for p in (p1, p2)]\n",
    "    [state_info(p) for p in (p1, p2)]\n",
    "\n",
    "    print()\n",
    "    [transition(p, p.terminate, TERMINATED) for p in (p1, p2)]\n",
    "    [state_info(p) for p in (p1, p2)]"
   ]
  },
  {
   "cell_type": "code",
   "execution_count": 2,
   "metadata": {
    "collapsed": false
   },
   "outputs": [
    {
     "name": "stdout",
     "output_type": "stream",
     "text": [
      "state of process1: created\n",
      "state of process2: created\n",
      "\n",
      "process1 entered waiting mode\n",
      "Error: transition of process2 from created to terminated failed\n",
      "state of process1: waiting\n",
      "state of process2: created\n",
      "\n",
      "process1 is running\n",
      "process2 entered waiting mode\n",
      "state of process1: running\n",
      "state of process2: waiting\n",
      "\n",
      "process2 is running\n",
      "state of process1: running\n",
      "state of process2: running\n",
      "\n",
      "process1 is blocked\n",
      "process2 is blocked\n",
      "state of process1: blocked\n",
      "state of process2: blocked\n",
      "\n",
      "Error: transition of process1 from blocked to terminated failed\n",
      "Error: transition of process2 from blocked to terminated failed\n",
      "state of process1: blocked\n",
      "state of process2: blocked\n"
     ]
    }
   ],
   "source": [
    "main()"
   ]
  },
  {
   "cell_type": "markdown",
   "metadata": {},
   "source": [
    "在main()函数的开始，我们定义了一些字符串常量，作为event_name参数值传递。\n",
    "接着，我们创建两个Process实例，并输出它们的初始状态信息。 \n",
    "函数的其余部分将尝试不同的状态转换。允许的状态转换\n",
    "应与状态图一致。例如，从状态“运行”转换到状态“阻塞”是可能的，但从状态“阻塞”转换\n",
    "到状态“运行”则是不可能的。 "
   ]
  },
  {
   "cell_type": "code",
   "execution_count": null,
   "metadata": {
    "collapsed": true
   },
   "outputs": [],
   "source": []
  }
 ],
 "metadata": {
  "kernelspec": {
   "display_name": "Python [default]",
   "language": "python",
   "name": "python3"
  },
  "language_info": {
   "codemirror_mode": {
    "name": "ipython",
    "version": 3
   },
   "file_extension": ".py",
   "mimetype": "text/x-python",
   "name": "python",
   "nbconvert_exporter": "python",
   "pygments_lexer": "ipython3",
   "version": "3.5.2"
  }
 },
 "nbformat": 4,
 "nbformat_minor": 1
}
