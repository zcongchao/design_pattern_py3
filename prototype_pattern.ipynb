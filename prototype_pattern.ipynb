{
 "cells": [
  {
   "cell_type": "markdown",
   "metadata": {},
   "source": [
    "### 原型模式     \n",
    "有时候，我们需要创建一个对象的完全拷贝。例如，假设你想要创建一个能够存储、分享、和编辑的（比如，修改，添加笔记、删除笔记）菜谱应用。用户Bod发现了一本糕点食谱，之后对他做出了一些自认为可以让蛋糕美味的轻微修改，而且他还想和好友爱丽丝分享这份食谱。那么分享食谱意味着什么呢？如果鲍勃想要在把食谱分享给爱丽丝之后进行深入实验，那么对食谱的新变更也可以出现在爱丽丝的食谱中吗？鲍勃可以拥有蛋糕食谱的双份拷贝吗？他的美味蛋糕食谱应该不受到任何试验性蛋糕食谱修改的影响。"
   ]
  },
  {
   "cell_type": "markdown",
   "metadata": {},
   "source": [
    "此类问题可以通过让用户使用不止一份独立的相同拷贝来解决。每个拷贝都称作克隆，因为这份拷贝是在一个指定对时间内的原始对象拷贝。时间方面很重要，因为它影响着将要克隆的内容。例如，如果鲍勃在改进食谱已实现完美之前就把蛋糕食谱分享给了爱丽丝，那么爱丽丝就永远不能够烘培鲍勃所创建的美味蛋糕的私有定制版本！她只能够烘培由鲍勃创建的原始版本蛋糕食谱中的蛋糕。"
   ]
  },
  {
   "cell_type": "markdown",
   "metadata": {},
   "source": [
    "注意拷贝和引用之间的不同。如果对相同的糕点食谱做了两个引用，不论Bob对食谱做了什么更改，Alice的食谱中都可以看到，反之亦然。要是我们想让Bob和Alice都拥有各自的拷贝，那么他们就可以各自变更而不影响到对方的食谱。Bob实际上需要糕点食谱的两份拷贝：美味版和体验版。"
   ]
  },
  {
   "cell_type": "markdown",
   "metadata": {},
   "source": [
    "原型设计模式有助于我们创建一个对象的克隆。在其最简单版本中，原型模式只是一个接受对象作为输入参数并返回这个对象克隆的clone()函数。在Python中，可以使用copy.deepcopy()函数实现此目的。让我们看一个例子。在下面的代码中（文件clone.py），由两个类A和B。A是一个父类而B是一个派生类。在主体部分中，我们创建了一个类B的实例b，并使用了deepcopy()创建了一个叫做c的实例b的克隆。"
   ]
  },
  {
   "cell_type": "code",
   "execution_count": 1,
   "metadata": {
    "collapsed": true
   },
   "outputs": [],
   "source": [
    "import copy\n",
    "\n",
    "\n",
    "class A:\n",
    "    def __init__(self):\n",
    "        self.x = 18\n",
    "        self.msg = 'Hello'\n",
    "\n",
    "\n",
    "class B(A):\n",
    "    def __init__(self):\n",
    "        A.__init__(self)\n",
    "        self.y = 34\n",
    "    def __str__(self):\n",
    "           return '{}, {}, {}'.format(self.x, self.msg, self.y)"
   ]
  },
  {
   "cell_type": "code",
   "execution_count": 2,
   "metadata": {
    "collapsed": false
   },
   "outputs": [
    {
     "name": "stdout",
     "output_type": "stream",
     "text": [
      "['18, Hello, 34', '18, Hello, 34']\n",
      "[<__main__.B object at 0x0000000004C77A58>, <__main__.B object at 0x0000000004C77DD8>]\n"
     ]
    }
   ],
   "source": [
    "b = B()\n",
    "c = copy.deepcopy(b)\n",
    "print([str(i) for i in (b, c)])\n",
    "print([i for i in (b, c)])"
   ]
  },
  {
   "cell_type": "markdown",
   "metadata": {},
   "source": [
    "重要的在于注意这两个对象位于两个不同的内存地址中（0x...那一部分）。这就意味着两个对象是两份独立的副本。"
   ]
  },
  {
   "cell_type": "markdown",
   "metadata": {},
   "source": [
    "### 实现"
   ]
  },
  {
   "cell_type": "code",
   "execution_count": 8,
   "metadata": {
    "collapsed": false
   },
   "outputs": [],
   "source": [
    "import copy\n",
    "\n",
    "class Website: \n",
    "    def __init__(self, name, domain, description, author, **kwargs): \n",
    "        '''Examples of optional attributes (kwargs): \n",
    "           category, creation_date, technologies, keywords.\n",
    "        ''' \n",
    "        self.name = name \n",
    "        self.domain = domain \n",
    "        self.description = description\n",
    "        self.author = author\n",
    "        \n",
    "        for key in kwargs:\n",
    "            setattr(self, key, kwargs[key])\n",
    " \n",
    "    def __str__(self): \n",
    "        summary = ['Website \"{}\"\\n'.format(self.name),] \n",
    "        \n",
    "        infos = vars(self).items()\n",
    "        ordered_infos = sorted(infos)\n",
    "        for attr, val in ordered_infos:\n",
    "            if attr == 'name':\n",
    "                continue\n",
    "            summary.append('{}: {}\\n'.format(attr, val))\n",
    "            \n",
    "        return ''.join(summary) \n",
    "\n",
    "        \n",
    "class Prototype: \n",
    "    def __init__(self): \n",
    "        self.objects = dict() \n",
    " \n",
    "    def register(self, identifier, obj): \n",
    "        self.objects[identifier] = obj \n",
    " \n",
    "    def unregister(self, identifier): \n",
    "        del self.objects[identifier] \n",
    "    #核心是clone方法\n",
    "    def clone(self, identifier, **attrs): \n",
    "        found = self.objects.get(identifier) \n",
    "        if not found: \n",
    "            raise ValueError('Incorrect object identifier: {}'.format(identifier)) \n",
    "        obj = copy.deepcopy(found) \n",
    "        for key in attrs:\n",
    "            setattr(obj, key, attrs[key])\n",
    "\n",
    "        return obj\n",
    "        \n",
    "def main(): \n",
    "    keywords = ('python', 'data', 'apis', 'automation')\n",
    "    site1 = Website('ContentGardening', \n",
    "            domain='contentgardening.com', \n",
    "            description='Automation and data-driven apps', \n",
    "            author='Kamon Ayeva',\n",
    "            category='Blog',\n",
    "            keywords=keywords)\n",
    " \n",
    "    prototype = Prototype() \n",
    "    identifier = 'ka-cg-1' \n",
    "    prototype.register(identifier, site1)\n",
    "    \n",
    "    site2 = prototype.clone(identifier, \n",
    "            name='ContentGardeningPlayground',\n",
    "            domain='play.contentgardening.com', \n",
    "            description='Experimentation for techniques featured on the blog', \n",
    "            category='Membership site',\n",
    "            creation_date='2018-08-01') \n",
    " \n",
    "    for site in (site1, site2): \n",
    "        print(site)\n",
    "    print('ID site1 : {} != ID site2 : {}'.format(id(site1),id(site2)))\n",
    "    "
   ]
  },
  {
   "cell_type": "code",
   "execution_count": 9,
   "metadata": {
    "collapsed": false
   },
   "outputs": [
    {
     "name": "stdout",
     "output_type": "stream",
     "text": [
      "Website \"ContentGardening\"\n",
      "author: Kamon Ayeva\n",
      "category: Blog\n",
      "description: Automation and data-driven apps\n",
      "domain: contentgardening.com\n",
      "keywords: ('python', 'data', 'apis', 'automation')\n",
      "\n",
      "Website \"ContentGardeningPlayground\"\n",
      "author: Kamon Ayeva\n",
      "category: Membership site\n",
      "creation_date: 2018-08-01\n",
      "description: Experimentation for techniques featured on the blog\n",
      "domain: play.contentgardening.com\n",
      "keywords: ('python', 'data', 'apis', 'automation')\n",
      "\n",
      "ID site1 : 80898928 != ID site2 : 80899040\n"
     ]
    }
   ],
   "source": [
    "main()"
   ]
  },
  {
   "cell_type": "code",
   "execution_count": null,
   "metadata": {
    "collapsed": true
   },
   "outputs": [],
   "source": []
  }
 ],
 "metadata": {
  "kernelspec": {
   "display_name": "Python [default]",
   "language": "python",
   "name": "python3"
  },
  "language_info": {
   "codemirror_mode": {
    "name": "ipython",
    "version": 3
   },
   "file_extension": ".py",
   "mimetype": "text/x-python",
   "name": "python",
   "nbconvert_exporter": "python",
   "pygments_lexer": "ipython3",
   "version": "3.5.2"
  }
 },
 "nbformat": 4,
 "nbformat_minor": 1
}
